{
 "cells": [
  {
   "cell_type": "markdown",
   "id": "31d97bb1-001d-4a9b-a70a-18e1d751f713",
   "metadata": {},
   "source": [
    "Ex 4.10 Coding Etiquette and Excel Reporting (Tutorial in Reading)\n",
    "\n",
    "This script contains the following:\n",
    "\n",
    "1. Import Libraries\n",
    "2. Create Path\n",
    "3. Import fully joined Orders, Products, Customers Dataframe\n",
    "4. Create Crosstab\n"
   ]
  },
  {
   "cell_type": "markdown",
   "id": "c3dc807e-cc49-474c-873f-7cc5de31c78b",
   "metadata": {},
   "source": [
    "1. ***Import Libraries***"
   ]
  },
  {
   "cell_type": "code",
   "execution_count": 3,
   "id": "e2f71dc5-4ada-4c8f-81e5-60de1a17739d",
   "metadata": {},
   "outputs": [],
   "source": [
    "import pandas as pd\n",
    "import numpy as np\n",
    "import os\n",
    "import matplotlib.pyplot as plt\n",
    "import seaborn as sns\n",
    "import scipy"
   ]
  },
  {
   "cell_type": "markdown",
   "id": "e0348708-c435-4905-8e1d-c50ec1dcb89d",
   "metadata": {},
   "source": [
    "2. ***Create Path***"
   ]
  },
  {
   "cell_type": "code",
   "execution_count": 12,
   "id": "3a837ff9-13b8-4cde-b191-2737895ef077",
   "metadata": {},
   "outputs": [],
   "source": [
    "path=r'C:\\Users\\lisac\\10-10-2024 Instacart Basket Analysis'"
   ]
  },
  {
   "cell_type": "markdown",
   "id": "c5fa6ed4-4b84-420e-8dfb-16d94b5a106d",
   "metadata": {},
   "source": [
    "3. ***Import fully joined Orders, Products, Customers dataframe***"
   ]
  },
  {
   "cell_type": "code",
   "execution_count": 14,
   "id": "940b3abb-a22b-47a3-858e-118b021eb4b6",
   "metadata": {},
   "outputs": [],
   "source": [
    "df_opc=pd.read_pickle(os.path.join(path, '02 Data', 'Prepared Data', 'orders_products_customers_merge_12.16.pkl'))"
   ]
  },
  {
   "cell_type": "code",
   "execution_count": 25,
   "id": "1a57fb8f-86d3-4c23-b35b-b72edb9d2b77",
   "metadata": {},
   "outputs": [],
   "source": [
    "df_opm=pd.read_pickle(os.path.join(path, '02 Data', 'Prepared Data', 'orders_products_merge_updated.pkl'))"
   ]
  },
  {
   "cell_type": "markdown",
   "id": "05c6bb16-4541-4673-a1f1-e949d795f7fc",
   "metadata": {},
   "source": [
    "4. ***Create Crosstab***"
   ]
  },
  {
   "cell_type": "markdown",
   "id": "c33d4add-d199-4674-949d-574f8a462368",
   "metadata": {},
   "source": [
    "Observation:  Noticed in the reading  that the tutorial conducts a crosstab on an older version of the dataframe.  "
   ]
  },
  {
   "cell_type": "code",
   "execution_count": 30,
   "id": "55d3c215-2429-4c37-bae3-8db5bc5f2e58",
   "metadata": {},
   "outputs": [
    {
     "name": "stdout",
     "output_type": "stream",
     "text": [
      "Variable               Type         Data/Info\n",
      "---------------------------------------------\n",
      "dataframe_columns      function     <function dataframe_colum<...>ns at 0x000002620E6AA200>\n",
      "dataframe_hash         function     <function dataframe_hash at 0x000002620F3FB880>\n",
      "df_opc                 DataFrame              order_id  Custo<...>404859 rows x 35 columns]\n",
      "df_opm                 DataFrame              order_id  custo<...>404859 rows x 19 columns]\n",
      "dtypes_str             function     <function dtypes_str at 0x000002620E6A9D00>\n",
      "get_dataframes         function     <function get_dataframes at 0x000002620F3FA2A0>\n",
      "getpass                module       <module 'getpass' from 'C<...>conda3\\\\Lib\\\\getpass.py'>\n",
      "hashlib                module       <module 'hashlib' from 'C<...>conda3\\\\Lib\\\\hashlib.py'>\n",
      "import_pandas_safely   function     <function import_pandas_s<...>ly at 0x0000026349E5FF60>\n",
      "is_data_frame          function     <function is_data_frame at 0x0000026349E5D300>\n",
      "json                   module       <module 'json' from 'C:\\\\<...>\\Lib\\\\json\\\\__init__.py'>\n",
      "np                     module       <module 'numpy' from 'C:\\<...>ges\\\\numpy\\\\__init__.py'>\n",
      "os                     module       <module 'os' (frozen)>\n",
      "path                   str          C:\\Users\\lisac\\10-10-2024<...>Instacart Basket Analysis\n",
      "pd                     module       <module 'pandas' from 'C:<...>es\\\\pandas\\\\__init__.py'>\n",
      "plt                    module       <module 'matplotlib.pyplo<...>\\\\matplotlib\\\\pyplot.py'>\n",
      "scipy                  module       <module 'scipy' from 'C:\\<...>ges\\\\scipy\\\\__init__.py'>\n",
      "sns                    module       <module 'seaborn' from 'C<...>s\\\\seaborn\\\\__init__.py'>\n"
     ]
    }
   ],
   "source": [
    "%whos"
   ]
  },
  {
   "cell_type": "code",
   "execution_count": 31,
   "id": "bbb9d54a-c8c2-4b17-b5d8-36acbc732596",
   "metadata": {},
   "outputs": [],
   "source": [
    "crosstab = pd.crosstab(df_opc['days_since_prior_order'], df_opc['order_number'], dropna = False)"
   ]
  },
  {
   "cell_type": "code",
   "execution_count": 34,
   "id": "a144c57d-5184-4431-a393-ccad8c2eb8cd",
   "metadata": {},
   "outputs": [],
   "source": [
    "crosstab.to_clipboard()"
   ]
  },
  {
   "cell_type": "code",
   "execution_count": null,
   "id": "b45c8f21-639a-4485-af85-6ea22ec47fb3",
   "metadata": {},
   "outputs": [],
   "source": []
  }
 ],
 "metadata": {
  "kernelspec": {
   "display_name": "Python 3 (ipykernel)",
   "language": "python",
   "name": "python3"
  },
  "language_info": {
   "codemirror_mode": {
    "name": "ipython",
    "version": 3
   },
   "file_extension": ".py",
   "mimetype": "text/x-python",
   "name": "python",
   "nbconvert_exporter": "python",
   "pygments_lexer": "ipython3",
   "version": "3.12.4"
  }
 },
 "nbformat": 4,
 "nbformat_minor": 5
}
