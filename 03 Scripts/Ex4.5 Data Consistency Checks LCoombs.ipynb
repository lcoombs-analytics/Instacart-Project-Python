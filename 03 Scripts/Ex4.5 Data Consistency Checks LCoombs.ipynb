{
 "cells": [
  {
   "cell_type": "markdown",
   "id": "6d873b68-68db-48d7-92be-b401cc33305b",
   "metadata": {},
   "source": [
    "***1. Importing Libraries***"
   ]
  },
  {
   "cell_type": "code",
   "execution_count": 178,
   "id": "7bf7c709-c43c-416b-9235-77d0323909cc",
   "metadata": {},
   "outputs": [],
   "source": [
    "import pandas as pd\n",
    "import numpy as np\n",
    "import os"
   ]
  },
  {
   "cell_type": "markdown",
   "id": "035cf372-773d-4298-8e71-e9f64d3a63c7",
   "metadata": {},
   "source": [
    "***2. Importing Data***"
   ]
  },
  {
   "cell_type": "code",
   "execution_count": 180,
   "id": "280e08ab-9c8e-4c8d-ae3e-000527cc9037",
   "metadata": {},
   "outputs": [],
   "source": [
    "#create path\n",
    "path=r'C:\\Users\\lisac\\10-10-2024 Instacart Basket Analysis'"
   ]
  },
  {
   "cell_type": "code",
   "execution_count": 181,
   "id": "56715293-c978-4dd8-87f0-ef9d058896ae",
   "metadata": {},
   "outputs": [],
   "source": [
    "#import wrangled data as orders_wrangled csv\n",
    "df_ords=pd.read_csv(os.path.join(path, '02 Data', 'Prepared Data', 'orders_wrangled.csv'))"
   ]
  },
  {
   "cell_type": "markdown",
   "id": "97987a0f-fedb-47c7-8856-15b621dde702",
   "metadata": {},
   "source": [
    "***3. Perform Data Consistency Checks***"
   ]
  },
  {
   "cell_type": "code",
   "execution_count": 183,
   "id": "69eadf65-c403-4062-af6b-0b84ea289a7a",
   "metadata": {},
   "outputs": [
    {
     "data": {
      "text/html": [
       "<div>\n",
       "<style scoped>\n",
       "    .dataframe tbody tr th:only-of-type {\n",
       "        vertical-align: middle;\n",
       "    }\n",
       "\n",
       "    .dataframe tbody tr th {\n",
       "        vertical-align: top;\n",
       "    }\n",
       "\n",
       "    .dataframe thead th {\n",
       "        text-align: right;\n",
       "    }\n",
       "</style>\n",
       "<table border=\"1\" class=\"dataframe\">\n",
       "  <thead>\n",
       "    <tr style=\"text-align: right;\">\n",
       "      <th></th>\n",
       "      <th>Unnamed: 0</th>\n",
       "      <th>order_id</th>\n",
       "      <th>customer_id</th>\n",
       "      <th>order_number</th>\n",
       "      <th>order_day_of_week</th>\n",
       "      <th>order_hour_of_day</th>\n",
       "      <th>days_since_prior_order</th>\n",
       "    </tr>\n",
       "  </thead>\n",
       "  <tbody>\n",
       "    <tr>\n",
       "      <th>count</th>\n",
       "      <td>3.421083e+06</td>\n",
       "      <td>3.421083e+06</td>\n",
       "      <td>3.421083e+06</td>\n",
       "      <td>3.421083e+06</td>\n",
       "      <td>3.421083e+06</td>\n",
       "      <td>3.421083e+06</td>\n",
       "      <td>3.214874e+06</td>\n",
       "    </tr>\n",
       "    <tr>\n",
       "      <th>mean</th>\n",
       "      <td>1.710541e+06</td>\n",
       "      <td>1.710542e+06</td>\n",
       "      <td>1.029782e+05</td>\n",
       "      <td>1.715486e+01</td>\n",
       "      <td>2.776219e+00</td>\n",
       "      <td>1.345202e+01</td>\n",
       "      <td>1.111484e+01</td>\n",
       "    </tr>\n",
       "    <tr>\n",
       "      <th>std</th>\n",
       "      <td>9.875817e+05</td>\n",
       "      <td>9.875817e+05</td>\n",
       "      <td>5.953372e+04</td>\n",
       "      <td>1.773316e+01</td>\n",
       "      <td>2.046829e+00</td>\n",
       "      <td>4.226088e+00</td>\n",
       "      <td>9.206737e+00</td>\n",
       "    </tr>\n",
       "    <tr>\n",
       "      <th>min</th>\n",
       "      <td>0.000000e+00</td>\n",
       "      <td>1.000000e+00</td>\n",
       "      <td>1.000000e+00</td>\n",
       "      <td>1.000000e+00</td>\n",
       "      <td>0.000000e+00</td>\n",
       "      <td>0.000000e+00</td>\n",
       "      <td>0.000000e+00</td>\n",
       "    </tr>\n",
       "    <tr>\n",
       "      <th>25%</th>\n",
       "      <td>8.552705e+05</td>\n",
       "      <td>8.552715e+05</td>\n",
       "      <td>5.139400e+04</td>\n",
       "      <td>5.000000e+00</td>\n",
       "      <td>1.000000e+00</td>\n",
       "      <td>1.000000e+01</td>\n",
       "      <td>4.000000e+00</td>\n",
       "    </tr>\n",
       "    <tr>\n",
       "      <th>50%</th>\n",
       "      <td>1.710541e+06</td>\n",
       "      <td>1.710542e+06</td>\n",
       "      <td>1.026890e+05</td>\n",
       "      <td>1.100000e+01</td>\n",
       "      <td>3.000000e+00</td>\n",
       "      <td>1.300000e+01</td>\n",
       "      <td>7.000000e+00</td>\n",
       "    </tr>\n",
       "    <tr>\n",
       "      <th>75%</th>\n",
       "      <td>2.565812e+06</td>\n",
       "      <td>2.565812e+06</td>\n",
       "      <td>1.543850e+05</td>\n",
       "      <td>2.300000e+01</td>\n",
       "      <td>5.000000e+00</td>\n",
       "      <td>1.600000e+01</td>\n",
       "      <td>1.500000e+01</td>\n",
       "    </tr>\n",
       "    <tr>\n",
       "      <th>max</th>\n",
       "      <td>3.421082e+06</td>\n",
       "      <td>3.421083e+06</td>\n",
       "      <td>2.062090e+05</td>\n",
       "      <td>1.000000e+02</td>\n",
       "      <td>6.000000e+00</td>\n",
       "      <td>2.300000e+01</td>\n",
       "      <td>3.000000e+01</td>\n",
       "    </tr>\n",
       "  </tbody>\n",
       "</table>\n",
       "</div>"
      ],
      "text/plain": [
       "         Unnamed: 0      order_id   customer_id  order_number  \\\n",
       "count  3.421083e+06  3.421083e+06  3.421083e+06  3.421083e+06   \n",
       "mean   1.710541e+06  1.710542e+06  1.029782e+05  1.715486e+01   \n",
       "std    9.875817e+05  9.875817e+05  5.953372e+04  1.773316e+01   \n",
       "min    0.000000e+00  1.000000e+00  1.000000e+00  1.000000e+00   \n",
       "25%    8.552705e+05  8.552715e+05  5.139400e+04  5.000000e+00   \n",
       "50%    1.710541e+06  1.710542e+06  1.026890e+05  1.100000e+01   \n",
       "75%    2.565812e+06  2.565812e+06  1.543850e+05  2.300000e+01   \n",
       "max    3.421082e+06  3.421083e+06  2.062090e+05  1.000000e+02   \n",
       "\n",
       "       order_day_of_week  order_hour_of_day  days_since_prior_order  \n",
       "count       3.421083e+06       3.421083e+06            3.214874e+06  \n",
       "mean        2.776219e+00       1.345202e+01            1.111484e+01  \n",
       "std         2.046829e+00       4.226088e+00            9.206737e+00  \n",
       "min         0.000000e+00       0.000000e+00            0.000000e+00  \n",
       "25%         1.000000e+00       1.000000e+01            4.000000e+00  \n",
       "50%         3.000000e+00       1.300000e+01            7.000000e+00  \n",
       "75%         5.000000e+00       1.600000e+01            1.500000e+01  \n",
       "max         6.000000e+00       2.300000e+01            3.000000e+01  "
      ]
     },
     "execution_count": 183,
     "metadata": {},
     "output_type": "execute_result"
    }
   ],
   "source": [
    "#Task 2: Run .describe() function on df_ords dataframe and share in markdown cell whether anyting about the data looks off or should be investigated further.\n",
    "df_ords.describe()"
   ]
  },
  {
   "cell_type": "code",
   "execution_count": 184,
   "id": "2d3404b6-03ac-44e7-a8ed-96a6a1833654",
   "metadata": {},
   "outputs": [],
   "source": [
    "#Dropping \"Unnamed: 0\", \"eval_set\" and \"order_day_of_week\" as these columns are not needed\n",
    "df_ords=df_ords.drop(['Unnamed: 0', 'eval_set', 'order_day_of_week'], axis=1)"
   ]
  },
  {
   "cell_type": "code",
   "execution_count": 185,
   "id": "c4fa539f-cb06-44ec-a220-c24dc5b6e598",
   "metadata": {},
   "outputs": [
    {
     "data": {
      "text/html": [
       "<div>\n",
       "<style scoped>\n",
       "    .dataframe tbody tr th:only-of-type {\n",
       "        vertical-align: middle;\n",
       "    }\n",
       "\n",
       "    .dataframe tbody tr th {\n",
       "        vertical-align: top;\n",
       "    }\n",
       "\n",
       "    .dataframe thead th {\n",
       "        text-align: right;\n",
       "    }\n",
       "</style>\n",
       "<table border=\"1\" class=\"dataframe\">\n",
       "  <thead>\n",
       "    <tr style=\"text-align: right;\">\n",
       "      <th></th>\n",
       "      <th>order_id</th>\n",
       "      <th>customer_id</th>\n",
       "      <th>order_number</th>\n",
       "      <th>order_hour_of_day</th>\n",
       "      <th>days_since_prior_order</th>\n",
       "    </tr>\n",
       "  </thead>\n",
       "  <tbody>\n",
       "    <tr>\n",
       "      <th>count</th>\n",
       "      <td>3.421083e+06</td>\n",
       "      <td>3.421083e+06</td>\n",
       "      <td>3.421083e+06</td>\n",
       "      <td>3.421083e+06</td>\n",
       "      <td>3.214874e+06</td>\n",
       "    </tr>\n",
       "    <tr>\n",
       "      <th>mean</th>\n",
       "      <td>1.710542e+06</td>\n",
       "      <td>1.029782e+05</td>\n",
       "      <td>1.715486e+01</td>\n",
       "      <td>1.345202e+01</td>\n",
       "      <td>1.111484e+01</td>\n",
       "    </tr>\n",
       "    <tr>\n",
       "      <th>std</th>\n",
       "      <td>9.875817e+05</td>\n",
       "      <td>5.953372e+04</td>\n",
       "      <td>1.773316e+01</td>\n",
       "      <td>4.226088e+00</td>\n",
       "      <td>9.206737e+00</td>\n",
       "    </tr>\n",
       "    <tr>\n",
       "      <th>min</th>\n",
       "      <td>1.000000e+00</td>\n",
       "      <td>1.000000e+00</td>\n",
       "      <td>1.000000e+00</td>\n",
       "      <td>0.000000e+00</td>\n",
       "      <td>0.000000e+00</td>\n",
       "    </tr>\n",
       "    <tr>\n",
       "      <th>25%</th>\n",
       "      <td>8.552715e+05</td>\n",
       "      <td>5.139400e+04</td>\n",
       "      <td>5.000000e+00</td>\n",
       "      <td>1.000000e+01</td>\n",
       "      <td>4.000000e+00</td>\n",
       "    </tr>\n",
       "    <tr>\n",
       "      <th>50%</th>\n",
       "      <td>1.710542e+06</td>\n",
       "      <td>1.026890e+05</td>\n",
       "      <td>1.100000e+01</td>\n",
       "      <td>1.300000e+01</td>\n",
       "      <td>7.000000e+00</td>\n",
       "    </tr>\n",
       "    <tr>\n",
       "      <th>75%</th>\n",
       "      <td>2.565812e+06</td>\n",
       "      <td>1.543850e+05</td>\n",
       "      <td>2.300000e+01</td>\n",
       "      <td>1.600000e+01</td>\n",
       "      <td>1.500000e+01</td>\n",
       "    </tr>\n",
       "    <tr>\n",
       "      <th>max</th>\n",
       "      <td>3.421083e+06</td>\n",
       "      <td>2.062090e+05</td>\n",
       "      <td>1.000000e+02</td>\n",
       "      <td>2.300000e+01</td>\n",
       "      <td>3.000000e+01</td>\n",
       "    </tr>\n",
       "  </tbody>\n",
       "</table>\n",
       "</div>"
      ],
      "text/plain": [
       "           order_id   customer_id  order_number  order_hour_of_day  \\\n",
       "count  3.421083e+06  3.421083e+06  3.421083e+06       3.421083e+06   \n",
       "mean   1.710542e+06  1.029782e+05  1.715486e+01       1.345202e+01   \n",
       "std    9.875817e+05  5.953372e+04  1.773316e+01       4.226088e+00   \n",
       "min    1.000000e+00  1.000000e+00  1.000000e+00       0.000000e+00   \n",
       "25%    8.552715e+05  5.139400e+04  5.000000e+00       1.000000e+01   \n",
       "50%    1.710542e+06  1.026890e+05  1.100000e+01       1.300000e+01   \n",
       "75%    2.565812e+06  1.543850e+05  2.300000e+01       1.600000e+01   \n",
       "max    3.421083e+06  2.062090e+05  1.000000e+02       2.300000e+01   \n",
       "\n",
       "       days_since_prior_order  \n",
       "count            3.214874e+06  \n",
       "mean             1.111484e+01  \n",
       "std              9.206737e+00  \n",
       "min              0.000000e+00  \n",
       "25%              4.000000e+00  \n",
       "50%              7.000000e+00  \n",
       "75%              1.500000e+01  \n",
       "max              3.000000e+01  "
      ]
     },
     "execution_count": 185,
     "metadata": {},
     "output_type": "execute_result"
    }
   ],
   "source": [
    "#Running .describe() function again to see if \"Unnamed:0\", eval_set', \"order_day_of-Week\" were dropped:\n",
    "df_ords.describe()"
   ]
  },
  {
   "cell_type": "markdown",
   "id": "2127ba4c-d69c-4eab-80e1-7c3deadcc88d",
   "metadata": {},
   "source": [
    "Observation:  Three columns were dropped, but they should not have come up in the first place.  I retrieved the \"orders_wrangled.csv\" for the df_ords dataframe. \n",
    "\n",
    "Review of each column:\n",
    "order_id: This is a count of each order.  The first order is 1 (also the minimum value) and the last order is 3421083 (also the maximun value).  The maximum value also matches the count, 3421083.\n",
    "\n",
    "customer_id: This column is a count of customers, ranging from 1 to 206209.  Could be accurate for a count of 206209 customers.  Will check for duplicates.\n",
    "\n",
    "order_number:  This column is a count of number of orders placed by customers; ranging from 1-100.  The average (mean) number of orders placed by a customer is 17.  Could look into high number of orders (90-100) to see if they are perhaps automated ordering.\n",
    "\n",
    "order_hour_of_day:  This column is the time (hour of day) when orders were placed by customers.  Range from 0 hour (midnight) to 23:00 (or 11 pm).  The mean is 13:00 (1pm) which could track with most customers placing orders in the afternoon. Could investigate the distribution of order times to see if any hours are overrepresented or if there are unusual patterns in ordering times.\n",
    "\n",
    "days_since_prior_order:  This column is a tally of the number of days from one order to the next.\n",
    "The count is 3,214,874, which is is less than the total number of rows, 3,421,083.  This could mean there are missing values in this column. "
   ]
  },
  {
   "cell_type": "markdown",
   "id": "ec425213-2a68-49eb-aba6-e9ec3f03946e",
   "metadata": {},
   "source": [
    "***3.1 Identify Mixed-Type Data***"
   ]
  },
  {
   "cell_type": "code",
   "execution_count": 188,
   "id": "50cad0ec-8114-4353-9ab6-4d6c5cba2ecd",
   "metadata": {},
   "outputs": [
    {
     "name": "stdout",
     "output_type": "stream",
     "text": [
      "No mixed-type data detected.\n"
     ]
    }
   ],
   "source": [
    "#Task 3: Check for mixed-type data in df_ords dataframe by Looping over all columns to identify mixed-type data\n",
    "mixed_type_data = []\n",
    "\n",
    "for col in df_ords.columns:\n",
    "    if (df_ords[[col]].apply(lambda x: x.map(type)) != df_ords[[col]].iloc[0].apply(type)).any(axis=None):\n",
    "        mixed_type_data.append(col)\n",
    "\n",
    "if mixed_type_data:\n",
    "    print(f\"Columns with mixed-type data: {mixed_type_data}\")\n",
    "else:\n",
    "    print(\"No mixed-type data detected.\")"
   ]
  },
  {
   "cell_type": "markdown",
   "id": "764e58ff-447a-4c67-9b93-3c0cf0ef4380",
   "metadata": {},
   "source": [
    "#Task 4:  If any mixed-type data found, fix it.  \n",
    "No mixed-type data found"
   ]
  },
  {
   "cell_type": "markdown",
   "id": "ced0c9d0-8bca-4e4e-936a-ed42cd124905",
   "metadata": {},
   "source": [
    "***3.2 Identify Missing Values***"
   ]
  },
  {
   "cell_type": "code",
   "execution_count": 191,
   "id": "133b4f07-93ca-4ef1-bc5e-6847d32e70bd",
   "metadata": {},
   "outputs": [
    {
     "data": {
      "text/plain": [
       "order_id                       0\n",
       "customer_id                    0\n",
       "order_number                   0\n",
       "order_hour_of_day              0\n",
       "days_since_prior_order    206209\n",
       "order_day_of_week_name         0\n",
       "dtype: int64"
      ]
     },
     "execution_count": 191,
     "metadata": {},
     "output_type": "execute_result"
    }
   ],
   "source": [
    "#Task 5: Check for missing values in df_ords dataframe and report findings\n",
    "df_ords.isnull().sum()"
   ]
  },
  {
   "cell_type": "markdown",
   "id": "1b6e8df6-797f-4f61-a5a6-1943dd92da2d",
   "metadata": {},
   "source": [
    "Observation: there are 206209 missing values in the days_since_prior_order column.  This tracks because that is exactly the difference between the total count and the total number of days since the last order.  "
   ]
  },
  {
   "cell_type": "code",
   "execution_count": 193,
   "id": "61a6baf7-58a7-4b45-8611-d2413a0e103a",
   "metadata": {},
   "outputs": [],
   "source": [
    "#Task 6:  Addressing missing values by first creating a subset to review the missing values\n",
    "df_nan=df_ords[df_ords['days_since_prior_order'].isnull()==True]"
   ]
  },
  {
   "cell_type": "code",
   "execution_count": 194,
   "id": "5ae19dbe-00c6-4492-8aa2-396f888998c5",
   "metadata": {},
   "outputs": [
    {
     "data": {
      "text/html": [
       "<div>\n",
       "<style scoped>\n",
       "    .dataframe tbody tr th:only-of-type {\n",
       "        vertical-align: middle;\n",
       "    }\n",
       "\n",
       "    .dataframe tbody tr th {\n",
       "        vertical-align: top;\n",
       "    }\n",
       "\n",
       "    .dataframe thead th {\n",
       "        text-align: right;\n",
       "    }\n",
       "</style>\n",
       "<table border=\"1\" class=\"dataframe\">\n",
       "  <thead>\n",
       "    <tr style=\"text-align: right;\">\n",
       "      <th></th>\n",
       "      <th>order_id</th>\n",
       "      <th>customer_id</th>\n",
       "      <th>order_number</th>\n",
       "      <th>order_hour_of_day</th>\n",
       "      <th>days_since_prior_order</th>\n",
       "      <th>order_day_of_week_name</th>\n",
       "    </tr>\n",
       "  </thead>\n",
       "  <tbody>\n",
       "    <tr>\n",
       "      <th>0</th>\n",
       "      <td>2539329</td>\n",
       "      <td>1</td>\n",
       "      <td>1</td>\n",
       "      <td>8</td>\n",
       "      <td>NaN</td>\n",
       "      <td>Tuesday</td>\n",
       "    </tr>\n",
       "    <tr>\n",
       "      <th>11</th>\n",
       "      <td>2168274</td>\n",
       "      <td>2</td>\n",
       "      <td>1</td>\n",
       "      <td>11</td>\n",
       "      <td>NaN</td>\n",
       "      <td>Tuesday</td>\n",
       "    </tr>\n",
       "    <tr>\n",
       "      <th>26</th>\n",
       "      <td>1374495</td>\n",
       "      <td>3</td>\n",
       "      <td>1</td>\n",
       "      <td>14</td>\n",
       "      <td>NaN</td>\n",
       "      <td>Monday</td>\n",
       "    </tr>\n",
       "    <tr>\n",
       "      <th>39</th>\n",
       "      <td>3343014</td>\n",
       "      <td>4</td>\n",
       "      <td>1</td>\n",
       "      <td>11</td>\n",
       "      <td>NaN</td>\n",
       "      <td>Saturday</td>\n",
       "    </tr>\n",
       "    <tr>\n",
       "      <th>45</th>\n",
       "      <td>2717275</td>\n",
       "      <td>5</td>\n",
       "      <td>1</td>\n",
       "      <td>12</td>\n",
       "      <td>NaN</td>\n",
       "      <td>Wednesday</td>\n",
       "    </tr>\n",
       "    <tr>\n",
       "      <th>...</th>\n",
       "      <td>...</td>\n",
       "      <td>...</td>\n",
       "      <td>...</td>\n",
       "      <td>...</td>\n",
       "      <td>...</td>\n",
       "      <td>...</td>\n",
       "    </tr>\n",
       "    <tr>\n",
       "      <th>3420930</th>\n",
       "      <td>969311</td>\n",
       "      <td>206205</td>\n",
       "      <td>1</td>\n",
       "      <td>12</td>\n",
       "      <td>NaN</td>\n",
       "      <td>Thursday</td>\n",
       "    </tr>\n",
       "    <tr>\n",
       "      <th>3420934</th>\n",
       "      <td>3189322</td>\n",
       "      <td>206206</td>\n",
       "      <td>1</td>\n",
       "      <td>18</td>\n",
       "      <td>NaN</td>\n",
       "      <td>Wednesday</td>\n",
       "    </tr>\n",
       "    <tr>\n",
       "      <th>3421002</th>\n",
       "      <td>2166133</td>\n",
       "      <td>206207</td>\n",
       "      <td>1</td>\n",
       "      <td>19</td>\n",
       "      <td>NaN</td>\n",
       "      <td>Saturday</td>\n",
       "    </tr>\n",
       "    <tr>\n",
       "      <th>3421019</th>\n",
       "      <td>2227043</td>\n",
       "      <td>206208</td>\n",
       "      <td>1</td>\n",
       "      <td>15</td>\n",
       "      <td>NaN</td>\n",
       "      <td>Monday</td>\n",
       "    </tr>\n",
       "    <tr>\n",
       "      <th>3421069</th>\n",
       "      <td>3154581</td>\n",
       "      <td>206209</td>\n",
       "      <td>1</td>\n",
       "      <td>11</td>\n",
       "      <td>NaN</td>\n",
       "      <td>Wednesday</td>\n",
       "    </tr>\n",
       "  </tbody>\n",
       "</table>\n",
       "<p>206209 rows × 6 columns</p>\n",
       "</div>"
      ],
      "text/plain": [
       "         order_id  customer_id  order_number  order_hour_of_day  \\\n",
       "0         2539329            1             1                  8   \n",
       "11        2168274            2             1                 11   \n",
       "26        1374495            3             1                 14   \n",
       "39        3343014            4             1                 11   \n",
       "45        2717275            5             1                 12   \n",
       "...           ...          ...           ...                ...   \n",
       "3420930    969311       206205             1                 12   \n",
       "3420934   3189322       206206             1                 18   \n",
       "3421002   2166133       206207             1                 19   \n",
       "3421019   2227043       206208             1                 15   \n",
       "3421069   3154581       206209             1                 11   \n",
       "\n",
       "         days_since_prior_order order_day_of_week_name  \n",
       "0                           NaN                Tuesday  \n",
       "11                          NaN                Tuesday  \n",
       "26                          NaN                 Monday  \n",
       "39                          NaN               Saturday  \n",
       "45                          NaN              Wednesday  \n",
       "...                         ...                    ...  \n",
       "3420930                     NaN               Thursday  \n",
       "3420934                     NaN              Wednesday  \n",
       "3421002                     NaN               Saturday  \n",
       "3421019                     NaN                 Monday  \n",
       "3421069                     NaN              Wednesday  \n",
       "\n",
       "[206209 rows x 6 columns]"
      ]
     },
     "execution_count": 194,
     "metadata": {},
     "output_type": "execute_result"
    }
   ],
   "source": [
    "df_nan"
   ]
  },
  {
   "cell_type": "markdown",
   "id": "31cbfe43-9531-46b5-9598-aee7f6163fc1",
   "metadata": {},
   "source": [
    "Observation (1) My thought process:  I'm not sure which method to use to address these missing values.  The example in the reading was missing values that were a string (\"product_name\").  This could have been flagged, I guess, but the reading identified filtering out the missing rows as the method of choice.  Additionally, since they were string values, they could not be imputed.  I could understand filtering out the values as it was only 16 rows and it would not have a significant impact on the overall analysis.  \n",
    "\n",
    "In this instance, the df_ords dataframe has 206209 missing values in the days_since_prior_order column.  I need to do some deeper investigating."
   ]
  },
  {
   "cell_type": "markdown",
   "id": "5d0a44ae-05d6-4e79-89a6-eae71f6d5ff7",
   "metadata": {},
   "source": [
    "Observation (2) Investigative Action steps:  I took a deep dive into ChatGPT to help me figure out how to \"think\" about these missing numbers. I'm looking for these steps to help to deduce which method I should use (Flagging, Imputing or Filtering out) to address these missing values.   \n",
    "\n",
    "Missing Values - What could they represent?:\n",
    "\n",
    "Since days_since_prior_order reflects the time elapsed between orders for each customer. Missing values may suggest that these are first-time orders, meaning there is no prior order to calculate a time lapse.\n",
    "\n",
    "Cross-Check Other Columns:\n",
    "\n",
    "Customer ID: Check if these customers appear only once in dataset, which might indicate a first order.\n",
    "\n",
    "Order Number: Check the value of order_number for all the missing rows. If it is 1, then it's likely this is a customer’s first order, confirming the hypothesis.\n",
    "\n",
    "Statistical Analysis:\n",
    "\n",
    "The 206209 rows are roughly 6% of the total number 3421083.  This percentage may not be large enough to have an impact on the overall analysis, thereby making it possible to just filter out these values.  But before that, how about counting and grouping?\n",
    "\n",
    "Count the unique coustomer_id values where the days_since_prior_order is NaN to see how many distinct customers are involved.\n",
    "\n",
    "Group the data by customer_id to see the order history and look for any patterns like if NaN is consistently associated with first time orders."
   ]
  },
  {
   "cell_type": "code",
   "execution_count": 197,
   "id": "46016898-049e-40ae-86d6-b2fc13bab469",
   "metadata": {},
   "outputs": [
    {
     "name": "stdout",
     "output_type": "stream",
     "text": [
      "Number of unique customers with missing values: 206209\n"
     ]
    }
   ],
   "source": [
    "#Cross-Check customer_id:  Count number of unique customers with missing 'days_since_prior_order' in the 'cusotmer_id' column\n",
    "unique_customers_with_nan = df_ords[df_ords['days_since_prior_order'].isnull()]['customer_id'].nunique()\n",
    "print(f\"Number of unique customers with missing values: {unique_customers_with_nan}\")"
   ]
  },
  {
   "cell_type": "markdown",
   "id": "8a7d4761-0996-451a-86da-861f005b6a23",
   "metadata": {},
   "source": [
    "Observation: There are 206209 unique customers with missing values.  Since these customers appear only once in the dataset, it's possible that these could be first time orders. Next, I'm going to look at the order_numbers to see if they are different or all \"1\"."
   ]
  },
  {
   "cell_type": "code",
   "execution_count": 199,
   "id": "c64bcaae-ac9b-494e-92fc-c52b0d5cc91e",
   "metadata": {},
   "outputs": [
    {
     "data": {
      "text/html": [
       "<div>\n",
       "<style scoped>\n",
       "    .dataframe tbody tr th:only-of-type {\n",
       "        vertical-align: middle;\n",
       "    }\n",
       "\n",
       "    .dataframe tbody tr th {\n",
       "        vertical-align: top;\n",
       "    }\n",
       "\n",
       "    .dataframe thead th {\n",
       "        text-align: right;\n",
       "    }\n",
       "</style>\n",
       "<table border=\"1\" class=\"dataframe\">\n",
       "  <thead>\n",
       "    <tr style=\"text-align: right;\">\n",
       "      <th></th>\n",
       "      <th>order_id</th>\n",
       "      <th>customer_id</th>\n",
       "      <th>order_number</th>\n",
       "      <th>order_hour_of_day</th>\n",
       "      <th>days_since_prior_order</th>\n",
       "      <th>order_day_of_week_name</th>\n",
       "    </tr>\n",
       "  </thead>\n",
       "  <tbody>\n",
       "    <tr>\n",
       "      <th>488047</th>\n",
       "      <td>1979389</td>\n",
       "      <td>29446</td>\n",
       "      <td>1</td>\n",
       "      <td>19</td>\n",
       "      <td>NaN</td>\n",
       "      <td>Tuesday</td>\n",
       "    </tr>\n",
       "    <tr>\n",
       "      <th>488048</th>\n",
       "      <td>713681</td>\n",
       "      <td>29446</td>\n",
       "      <td>2</td>\n",
       "      <td>16</td>\n",
       "      <td>13.0</td>\n",
       "      <td>Monday</td>\n",
       "    </tr>\n",
       "    <tr>\n",
       "      <th>488049</th>\n",
       "      <td>825355</td>\n",
       "      <td>29446</td>\n",
       "      <td>3</td>\n",
       "      <td>20</td>\n",
       "      <td>12.0</td>\n",
       "      <td>Saturday</td>\n",
       "    </tr>\n",
       "    <tr>\n",
       "      <th>488050</th>\n",
       "      <td>1222089</td>\n",
       "      <td>29446</td>\n",
       "      <td>4</td>\n",
       "      <td>16</td>\n",
       "      <td>18.0</td>\n",
       "      <td>Wednesday</td>\n",
       "    </tr>\n",
       "    <tr>\n",
       "      <th>488051</th>\n",
       "      <td>2992236</td>\n",
       "      <td>29446</td>\n",
       "      <td>5</td>\n",
       "      <td>16</td>\n",
       "      <td>30.0</td>\n",
       "      <td>Tuesday</td>\n",
       "    </tr>\n",
       "    <tr>\n",
       "      <th>...</th>\n",
       "      <td>...</td>\n",
       "      <td>...</td>\n",
       "      <td>...</td>\n",
       "      <td>...</td>\n",
       "      <td>...</td>\n",
       "      <td>...</td>\n",
       "    </tr>\n",
       "    <tr>\n",
       "      <th>3118875</th>\n",
       "      <td>389419</td>\n",
       "      <td>188036</td>\n",
       "      <td>46</td>\n",
       "      <td>8</td>\n",
       "      <td>10.0</td>\n",
       "      <td>Tuesday</td>\n",
       "    </tr>\n",
       "    <tr>\n",
       "      <th>3220695</th>\n",
       "      <td>2074108</td>\n",
       "      <td>194160</td>\n",
       "      <td>1</td>\n",
       "      <td>14</td>\n",
       "      <td>NaN</td>\n",
       "      <td>Sunday</td>\n",
       "    </tr>\n",
       "    <tr>\n",
       "      <th>3220696</th>\n",
       "      <td>335651</td>\n",
       "      <td>194160</td>\n",
       "      <td>2</td>\n",
       "      <td>13</td>\n",
       "      <td>18.0</td>\n",
       "      <td>Thursday</td>\n",
       "    </tr>\n",
       "    <tr>\n",
       "      <th>3220697</th>\n",
       "      <td>1000085</td>\n",
       "      <td>194160</td>\n",
       "      <td>3</td>\n",
       "      <td>9</td>\n",
       "      <td>7.0</td>\n",
       "      <td>Thursday</td>\n",
       "    </tr>\n",
       "    <tr>\n",
       "      <th>3220698</th>\n",
       "      <td>181156</td>\n",
       "      <td>194160</td>\n",
       "      <td>4</td>\n",
       "      <td>6</td>\n",
       "      <td>5.0</td>\n",
       "      <td>Tuesday</td>\n",
       "    </tr>\n",
       "  </tbody>\n",
       "</table>\n",
       "<p>75 rows × 6 columns</p>\n",
       "</div>"
      ],
      "text/plain": [
       "         order_id  customer_id  order_number  order_hour_of_day  \\\n",
       "488047    1979389        29446             1                 19   \n",
       "488048     713681        29446             2                 16   \n",
       "488049     825355        29446             3                 20   \n",
       "488050    1222089        29446             4                 16   \n",
       "488051    2992236        29446             5                 16   \n",
       "...           ...          ...           ...                ...   \n",
       "3118875    389419       188036            46                  8   \n",
       "3220695   2074108       194160             1                 14   \n",
       "3220696    335651       194160             2                 13   \n",
       "3220697   1000085       194160             3                  9   \n",
       "3220698    181156       194160             4                  6   \n",
       "\n",
       "         days_since_prior_order order_day_of_week_name  \n",
       "488047                      NaN                Tuesday  \n",
       "488048                     13.0                 Monday  \n",
       "488049                     12.0               Saturday  \n",
       "488050                     18.0              Wednesday  \n",
       "488051                     30.0                Tuesday  \n",
       "...                         ...                    ...  \n",
       "3118875                    10.0                Tuesday  \n",
       "3220695                     NaN                 Sunday  \n",
       "3220696                    18.0               Thursday  \n",
       "3220697                     7.0               Thursday  \n",
       "3220698                     5.0                Tuesday  \n",
       "\n",
       "[75 rows x 6 columns]"
      ]
     },
     "execution_count": 199,
     "metadata": {},
     "output_type": "execute_result"
    }
   ],
   "source": [
    "#Sample some customers with missing 'days_since_prior_order' values\n",
    "sample_missing_customers = df_ords[df_ords['days_since_prior_order'].isnull()].sample(5)['customer_id']\n",
    "df_ords[df_ords['customer_id'].isin(sample_missing_customers)]"
   ]
  },
  {
   "cell_type": "markdown",
   "id": "49241974-05d8-4d9b-9a9e-666fd210717a",
   "metadata": {},
   "source": [
    "Observation: Customer_ids that have a \"1\" in the order_number column and \"NaN\" in the days_since_prior_order column indicate that these are first time orders. "
   ]
  },
  {
   "cell_type": "code",
   "execution_count": 201,
   "id": "960d862b-a77e-4e29-b665-508e04c6ca49",
   "metadata": {},
   "outputs": [
    {
     "name": "stdout",
     "output_type": "stream",
     "text": [
      "order_number\n",
      "1    206209\n",
      "Name: count, dtype: int64\n"
     ]
    }
   ],
   "source": [
    "#Check by counting order_number distribution for rows with missing values\n",
    "order_number_distribution = df_ords[df_ords['days_since_prior_order'].isnull()]['order_number'].value_counts()\n",
    "print(order_number_distribution)"
   ]
  },
  {
   "cell_type": "markdown",
   "id": "d114421b-7a27-427a-a2ae-7eb42180187f",
   "metadata": {},
   "source": [
    "Observation: This code is counting how many times an instance of \"1\" in the order_number column appears for the customers with \"NaN\" in the days_since_prior_order column.  It appears 206209 times, further supporting the hypothesis that these are first time orders.  \n",
    "\n",
    "Additionally, this is a strong indicator that I could impute the value to \"0\" because \"NaN\" looks to be representing a first time order.  Next, I want to take a deeper dive into the customer_id."
   ]
  },
  {
   "cell_type": "code",
   "execution_count": 203,
   "id": "5c452a42-0602-47ad-ae7e-a1bac0d86416",
   "metadata": {},
   "outputs": [
    {
     "name": "stdout",
     "output_type": "stream",
     "text": [
      "Index([     1, 137478, 137468, 137469, 137470, 137471, 137472, 137473, 137474,\n",
      "       137475,\n",
      "       ...\n",
      "        68735,  68736,  68737,  68738,  68739,  68740,  68741,  68742,  68743,\n",
      "       206209],\n",
      "      dtype='int64', name='customer_id', length=206209)\n"
     ]
    }
   ],
   "source": [
    "# Step 1: Filter data where 'days_since_prior_order' is NaN\n",
    "df_missing = df_ords[df_ords['days_since_prior_order'].isnull()]\n",
    "\n",
    "# Step 2: Count occurrences of 'customer_id' for these rows\n",
    "customer_counts = df_missing['customer_id'].value_counts()\n",
    "\n",
    "# Step 3: Identify customers who appear only once\n",
    "customers_appearing_once = customer_counts[customer_counts == 1].index\n",
    "\n",
    "# Optional: View these customers\n",
    "print(customers_appearing_once)"
   ]
  },
  {
   "cell_type": "markdown",
   "id": "7d5b4105-d7b5-4caa-ae6c-0348eebcfee0",
   "metadata": {},
   "source": [
    "Observation: This output shows a list (index) of customer_ids that appear only once among the rows with missing values in the days_since_prior_order column.  I noticed that the length is exactly 206209 rows.  This indicates that each customer with a missing value in the days_since_prior_order column appears only one time in the filtered subset, df_missing.  \n",
    "\n",
    "Deduction:  It suggests that all the these customers made an order in the dataset.  Since orders PRIOR TO a FIRST TIME ORDER would be missing, it tracks that NaN would be the equivalent of a first time order.\n",
    "\n",
    "How to address the NaN values:  Imputing a value of \"0\" would indicate a first time order.  This option allows retention of the data integrity.  It also allows for future analysis on the first time orders, should Instacart require it."
   ]
  },
  {
   "cell_type": "code",
   "execution_count": 205,
   "id": "5f7a75bc-1b4b-4b5b-8e2e-2478dac47d24",
   "metadata": {},
   "outputs": [
    {
     "name": "stdout",
     "output_type": "stream",
     "text": [
      "Number of first-time customers: 0\n"
     ]
    }
   ],
   "source": [
    "# Verify if these customers only appear once in the entire df_ords dataframe\n",
    "total_customer_counts = df_ords['customer_id'].value_counts()\n",
    "customers_appearing_once_total = total_customer_counts[total_customer_counts == 1].index\n",
    "\n",
    "# Check intersection of customers appearing once in NaNsubset and entire dataframe\n",
    "first_time_customers = set(customers_appearing_once).intersection(set(customers_appearing_once_total))\n",
    "\n",
    "print(f\"Number of first-time customers: {len(first_time_customers)}\")"
   ]
  },
  {
   "cell_type": "markdown",
   "id": "d21876d2-a714-4fe8-bda5-7c3d0553c0e4",
   "metadata": {},
   "source": [
    "Observation:  I used the first code to verify if the customers who have missing days_since_prior_order values and appear only once in that filtered subset are also appearing only once in the entire DataFrame df_ords. Next, I looked at the commonality (intersection) of first_time_customers and customers_appearing_once to see if the first_time_customers contain any customers who are present only once in both conditions.  \n",
    "\n",
    "The output for the number of first-time customers was \"0\".  This means that none of the customers with missing days_since_prior_order values and appearing only once in the filtered subset (df_missing) appear exactly once in the entire DataFrame df_ords.\n",
    "\n",
    "In other words, all these customers have at least one other order recorded in df_ords.  This observation further supports that the \"NaN\" value in the days_since_prior_order column means that this was a first order for an existing customer, not a first order for a new customer.  This indicates a prior order history for these customers that are not present in the df_ords dataframe.\n",
    "\n",
    "Recommended Action: Flagging and Imputing\n",
    "Given that the missing days_since_prior_order values correspond to customers with multiple orders and that these NaN values likely represent their first recorded orders in this dataset, flagging these values as \"is_first_order\" and imputing \"0\" for the NaN value will give a clear picture of what the imputed \"0\" value is:  the first order for this existing customer in this dataset."
   ]
  },
  {
   "cell_type": "code",
   "execution_count": 207,
   "id": "157a9154-ca04-43fe-9fd7-41bb48497bcb",
   "metadata": {},
   "outputs": [],
   "source": [
    "#Create a flag for missing 'days_since_prior_order'\n",
    "df_ords['is_first_order'] = 0  # Initialize column with 0\n",
    "df_ords.loc[df_ords['days_since_prior_order'].isnull(), 'is_first_order'] = 1\n",
    "\n",
    "#Impute missing values in 'days_since_prior_order' with 0\n",
    "df_ords['days_since_prior_order'] = df_ords['days_since_prior_order'].fillna(0)"
   ]
  },
  {
   "cell_type": "code",
   "execution_count": 208,
   "id": "5cb81e39-aae7-4f2e-ae20-642834d24db5",
   "metadata": {},
   "outputs": [
    {
     "name": "stdout",
     "output_type": "stream",
     "text": [
      "True\n",
      "is_first_order\n",
      "0    3214874\n",
      "1     206209\n",
      "Name: count, dtype: int64\n",
      "    order_id  customer_id  order_number  order_hour_of_day  \\\n",
      "0    2539329            1             1                  8   \n",
      "11   2168274            2             1                 11   \n",
      "26   1374495            3             1                 14   \n",
      "39   3343014            4             1                 11   \n",
      "45   2717275            5             1                 12   \n",
      "\n",
      "    days_since_prior_order order_day_of_week_name  is_first_order  \n",
      "0                      0.0                Tuesday               1  \n",
      "11                     0.0                Tuesday               1  \n",
      "26                     0.0                 Monday               1  \n",
      "39                     0.0               Saturday               1  \n",
      "45                     0.0              Wednesday               1  \n",
      "0\n",
      "days_since_prior_order\n",
      "30.0    369323\n",
      "7.0     320608\n",
      "0.0     273964\n",
      "6.0     240013\n",
      "4.0     221696\n",
      "Name: count, dtype: int64\n",
      "Consistency between flag and imputed values: True\n"
     ]
    }
   ],
   "source": [
    "#Checking to see if flag and imputation worked\n",
    "#Check for the existence and values of the flag\n",
    "print('is_first_order' in df_ords.columns)\n",
    "print(df_ords['is_first_order'].value_counts())\n",
    "print(df_ords[df_ords['is_first_order'] == 1].head())\n",
    "\n",
    "#Check for successful imputation of 0 values\n",
    "print(df_ords['days_since_prior_order'].isnull().sum())  # Should output 0\n",
    "print(df_ords['days_since_prior_order'].value_counts().head())\n",
    "\n",
    "#Cross-check consistency\n",
    "check_consistency = df_ords[df_ords['is_first_order'] == -1]['days_since_prior_order'].eq(0).all()\n",
    "print(f\"Consistency between flag and imputed values: {check_consistency}\")"
   ]
  },
  {
   "cell_type": "markdown",
   "id": "63762a0d-d444-481e-8c00-432f0912437d",
   "metadata": {},
   "source": [
    "Observations:  \n",
    "(1) Check for the existence of \"is_first_order\" column\n",
    "\n",
    "The first line in the output \"True\" confirms that \"is_first_order\" column exists in the df_ords dataframe.\n",
    "\n",
    "(2) Counts of the values in \"is_first_order\" column\n",
    "\n",
    "There are 3214874 records where \"is_first_order\" is \"0\" meaning NOT a first order.  There are 206209 records where \"1\" is in \"is_first_order\" column meaning it IS a first order.\n",
    "\n",
    "(3) Showing the first few rows where \"is_first_order\"is \"1\"\n",
    "\n",
    "The other relevant columns are \"\"order_id\", \"customer_id\", \"days_since_prior_order\" and \"is_first_order\".  Note that in each row, \"days_since_prior_order\" is \"0\", which confirms these rows represent first orders as expected.\n",
    "\n",
    "(4) Check for null values in \"days_since_prior_order\"\n",
    "\n",
    "Here, a \"0\" indicates that there are no longer missing values in \"days_since_prior_order\" column, confirming that all the missing values were successfully filled.\n",
    "\n",
    "(5) Value counts in \"days_since_prior_order\"\n",
    "\n",
    "This output shows the counts of the top values in \"days_since_prior_order\".  The value \"30\" appears 369323 times, the value \"7\" appears 320608 times and the value \"0\" appears 273964 times.  I noticed that this was an increase of 67755 over the original count of 206209.  This could mean that there were already 67755 zeros in the dataset prior to the imputation.\n",
    "\n",
    "(6) Consistency check between flag and imputed value = True\n",
    "\n",
    "This confirms that all the rows where \"is_first_order\" is \"1\" also have the \"days_since_prior_order\" equal to \"0\", indicating that the flagging and the imputation are consistent and correctly implemented."
   ]
  },
  {
   "cell_type": "code",
   "execution_count": 210,
   "id": "1befe776-65c8-4b94-bf0a-15c533832a7b",
   "metadata": {},
   "outputs": [
    {
     "data": {
      "text/plain": [
       "order_id                  0\n",
       "customer_id               0\n",
       "order_number              0\n",
       "order_hour_of_day         0\n",
       "days_since_prior_order    0\n",
       "order_day_of_week_name    0\n",
       "is_first_order            0\n",
       "dtype: int64"
      ]
     },
     "execution_count": 210,
     "metadata": {},
     "output_type": "execute_result"
    }
   ],
   "source": [
    "#Checking to see if flag and imputation of \"0\" for the NaN values were implemented\n",
    "df_ords.isna().sum()"
   ]
  },
  {
   "cell_type": "markdown",
   "id": "7add84f9-57e3-45f1-a8d3-f192a5ed9c0a",
   "metadata": {},
   "source": [
    "Observation: \n",
    "Using .isna() and .sum() functions to count the missing values per column.  \n",
    "\n",
    "Since all the counts were \"0\", this means that there are NO MISSING values (NaN) in any of the columns listed. If further confirms that any missing values that were originally present in \"days_since_prior_order\" have been successfully filled in with \"0\".  It also confirms that the other columns in the df_ords dataframe have no missing data as well."
   ]
  },
  {
   "cell_type": "code",
   "execution_count": 234,
   "id": "0ed79349-f3e6-4343-bc58-3870676c4565",
   "metadata": {},
   "outputs": [],
   "source": [
    "#Task 7: Checking for duplicates by creating \"clean\" copy of the df_ords dataframe\n",
    "df_ords_clean = df_ords.copy()"
   ]
  },
  {
   "cell_type": "code",
   "execution_count": 236,
   "id": "60587766-dcaa-471d-b6cc-8c1ead4c76b8",
   "metadata": {},
   "outputs": [],
   "source": [
    "#Checking for full duplicates\n",
    "df_dups = df_ords_clean[df_ords_clean.duplicated()]"
   ]
  },
  {
   "cell_type": "code",
   "execution_count": 238,
   "id": "6bdc3ec0-84a1-4439-b71f-643f2f005721",
   "metadata": {},
   "outputs": [
    {
     "data": {
      "text/html": [
       "<div>\n",
       "<style scoped>\n",
       "    .dataframe tbody tr th:only-of-type {\n",
       "        vertical-align: middle;\n",
       "    }\n",
       "\n",
       "    .dataframe tbody tr th {\n",
       "        vertical-align: top;\n",
       "    }\n",
       "\n",
       "    .dataframe thead th {\n",
       "        text-align: right;\n",
       "    }\n",
       "</style>\n",
       "<table border=\"1\" class=\"dataframe\">\n",
       "  <thead>\n",
       "    <tr style=\"text-align: right;\">\n",
       "      <th></th>\n",
       "      <th>order_id</th>\n",
       "      <th>customer_id</th>\n",
       "      <th>order_number</th>\n",
       "      <th>order_hour_of_day</th>\n",
       "      <th>days_since_prior_order</th>\n",
       "      <th>order_day_of_week_name</th>\n",
       "      <th>is_first_order</th>\n",
       "    </tr>\n",
       "  </thead>\n",
       "  <tbody>\n",
       "  </tbody>\n",
       "</table>\n",
       "</div>"
      ],
      "text/plain": [
       "Empty DataFrame\n",
       "Columns: [order_id, customer_id, order_number, order_hour_of_day, days_since_prior_order, order_day_of_week_name, is_first_order]\n",
       "Index: []"
      ]
     },
     "execution_count": 238,
     "metadata": {},
     "output_type": "execute_result"
    }
   ],
   "source": [
    "#Pulling up any full duplicates\n",
    "df_dups"
   ]
  },
  {
   "cell_type": "markdown",
   "id": "4a51ee78-e104-42dc-b3d8-705fae5ef40a",
   "metadata": {},
   "source": [
    "Observation:  There were no rows in the output, therefore, there are no full duplicates in df_ords_clean dataframe."
   ]
  },
  {
   "cell_type": "code",
   "execution_count": 245,
   "id": "e811f446-02ef-4df5-8231-d0ec317baa73",
   "metadata": {},
   "outputs": [],
   "source": [
    "#Task 8:  No need to address full duplicates because there aren't any in the df_ords_clean dataframe."
   ]
  },
  {
   "cell_type": "code",
   "execution_count": 247,
   "id": "b9f44811-6618-40af-a44f-d04344ae8ccc",
   "metadata": {},
   "outputs": [],
   "source": [
    "#Create new subset dataframe that indicates the df_ords dataframe is clean with no duplicates\n",
    "df_ords_clean_no_dups=df_ords_clean.drop_duplicates()"
   ]
  },
  {
   "cell_type": "code",
   "execution_count": 249,
   "id": "3c222032-dc76-414c-b170-0210943d5cce",
   "metadata": {},
   "outputs": [
    {
     "data": {
      "text/plain": [
       "(3421083, 7)"
      ]
     },
     "execution_count": 249,
     "metadata": {},
     "output_type": "execute_result"
    }
   ],
   "source": [
    "#Count the number of rows\n",
    "df_ords_clean_no_dups.shape"
   ]
  },
  {
   "cell_type": "markdown",
   "id": "1df81a05-3a9d-44fa-9e86-d9d9ba6fe953",
   "metadata": {},
   "source": [
    "Observation:  Used the .shape function to confirm the number of rows and columns.  The count of the rows is 3421083, which matches the original count done at the beginning of this task. The number of columns increased by one when i added a flag column \"is_first_order\"."
   ]
  },
  {
   "cell_type": "code",
   "execution_count": 254,
   "id": "7f5ebaf4-94be-43bc-af86-3a2bcadd06f5",
   "metadata": {},
   "outputs": [],
   "source": [
    "#Task 9: Export new datafrome to Prepared Data folder:\n",
    "df_ords.to_csv(os.path.join(path, '02 Data', 'Prepared Data', 'orders_checked.csv'))"
   ]
  }
 ],
 "metadata": {
  "kernelspec": {
   "display_name": "Python 3 (ipykernel)",
   "language": "python",
   "name": "python3"
  },
  "language_info": {
   "codemirror_mode": {
    "name": "ipython",
    "version": 3
   },
   "file_extension": ".py",
   "mimetype": "text/x-python",
   "name": "python",
   "nbconvert_exporter": "python",
   "pygments_lexer": "ipython3",
   "version": "3.12.4"
  }
 },
 "nbformat": 4,
 "nbformat_minor": 5
}
