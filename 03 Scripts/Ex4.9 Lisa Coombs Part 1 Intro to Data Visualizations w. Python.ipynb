{
 "cells": [
  {
   "cell_type": "markdown",
   "id": "b0c416dc-7470-41ac-a632-a62f8660fd22",
   "metadata": {},
   "source": [
    "Ex 4.9 Lisa Coombs Intro to Data Visualizations with Python\n",
    "\n",
    "This script contains the following for PART 1:\n",
    "1. Import Libraries\n",
    "2. Create Path\n",
    "3. Import Customer Data\n",
    "4. Data Exploration\n",
    "5. Wrangle Data (Ex 4.4)\n",
    "6. Data Quality & Consistency Checks (Ex 4.5)\n",
    "7. Combine customer data with ords_prods data (Ex 4.6)\n",
    "8. Export new file (ords_prods_cust) as .pkl file to \"Prepared Data\""
   ]
  },
  {
   "cell_type": "markdown",
   "id": "a6783705-cb25-40c1-9ec3-acb3f03ab7b5",
   "metadata": {},
   "source": [
    "1. ***Import Libraries***"
   ]
  },
  {
   "cell_type": "code",
   "execution_count": 3,
   "id": "2a8a0c20-5808-4253-b00d-f8293546a7dc",
   "metadata": {},
   "outputs": [],
   "source": [
    "import pandas as pd\n",
    "import numpy as np\n",
    "import os\n",
    "import matplotlib.pyplot as plt\n",
    "import seaborn as sns\n",
    "import scipy"
   ]
  },
  {
   "cell_type": "markdown",
   "id": "87e6f118-3b06-41da-8b4f-19d6096faede",
   "metadata": {},
   "source": [
    "2. ***Create Path***"
   ]
  },
  {
   "cell_type": "code",
   "execution_count": 5,
   "id": "59ce9a08-4d1d-4a63-93ed-0771b258b28a",
   "metadata": {},
   "outputs": [],
   "source": [
    "path=r'C:\\Users\\lisac\\10-10-2024 Instacart Basket Analysis'"
   ]
  },
  {
   "cell_type": "markdown",
   "id": "e64ffd7c-7a42-48c4-83b8-74cdd0f7ca01",
   "metadata": {},
   "source": [
    "3. ***Import Customer Data***"
   ]
  },
  {
   "cell_type": "code",
   "execution_count": 7,
   "id": "893e7abc-8ff2-4fe9-82dd-5a6b22bee4ba",
   "metadata": {},
   "outputs": [],
   "source": [
    "cust_data=pd.read_csv(os.path.join(path, '02 Data', 'Original Data', 'customers.csv'))"
   ]
  },
  {
   "cell_type": "markdown",
   "id": "7625352a-744f-4ec5-ba63-64b3033e9c14",
   "metadata": {},
   "source": [
    "4. ***Data Exploration***"
   ]
  },
  {
   "cell_type": "code",
   "execution_count": 9,
   "id": "8789300c-f2ac-4c6b-af57-2af8349df0e3",
   "metadata": {},
   "outputs": [
    {
     "data": {
      "text/html": [
       "<div>\n",
       "<style scoped>\n",
       "    .dataframe tbody tr th:only-of-type {\n",
       "        vertical-align: middle;\n",
       "    }\n",
       "\n",
       "    .dataframe tbody tr th {\n",
       "        vertical-align: top;\n",
       "    }\n",
       "\n",
       "    .dataframe thead th {\n",
       "        text-align: right;\n",
       "    }\n",
       "</style>\n",
       "<table border=\"1\" class=\"dataframe\">\n",
       "  <thead>\n",
       "    <tr style=\"text-align: right;\">\n",
       "      <th></th>\n",
       "      <th>user_id</th>\n",
       "      <th>First Name</th>\n",
       "      <th>Surnam</th>\n",
       "      <th>Gender</th>\n",
       "      <th>STATE</th>\n",
       "      <th>Age</th>\n",
       "      <th>date_joined</th>\n",
       "      <th>n_dependants</th>\n",
       "      <th>fam_status</th>\n",
       "      <th>income</th>\n",
       "    </tr>\n",
       "  </thead>\n",
       "  <tbody>\n",
       "    <tr>\n",
       "      <th>0</th>\n",
       "      <td>26711</td>\n",
       "      <td>Deborah</td>\n",
       "      <td>Esquivel</td>\n",
       "      <td>Female</td>\n",
       "      <td>Missouri</td>\n",
       "      <td>48</td>\n",
       "      <td>1/1/2017</td>\n",
       "      <td>3</td>\n",
       "      <td>married</td>\n",
       "      <td>165665</td>\n",
       "    </tr>\n",
       "    <tr>\n",
       "      <th>1</th>\n",
       "      <td>33890</td>\n",
       "      <td>Patricia</td>\n",
       "      <td>Hart</td>\n",
       "      <td>Female</td>\n",
       "      <td>New Mexico</td>\n",
       "      <td>36</td>\n",
       "      <td>1/1/2017</td>\n",
       "      <td>0</td>\n",
       "      <td>single</td>\n",
       "      <td>59285</td>\n",
       "    </tr>\n",
       "    <tr>\n",
       "      <th>2</th>\n",
       "      <td>65803</td>\n",
       "      <td>Kenneth</td>\n",
       "      <td>Farley</td>\n",
       "      <td>Male</td>\n",
       "      <td>Idaho</td>\n",
       "      <td>35</td>\n",
       "      <td>1/1/2017</td>\n",
       "      <td>2</td>\n",
       "      <td>married</td>\n",
       "      <td>99568</td>\n",
       "    </tr>\n",
       "    <tr>\n",
       "      <th>3</th>\n",
       "      <td>125935</td>\n",
       "      <td>Michelle</td>\n",
       "      <td>Hicks</td>\n",
       "      <td>Female</td>\n",
       "      <td>Iowa</td>\n",
       "      <td>40</td>\n",
       "      <td>1/1/2017</td>\n",
       "      <td>0</td>\n",
       "      <td>single</td>\n",
       "      <td>42049</td>\n",
       "    </tr>\n",
       "    <tr>\n",
       "      <th>4</th>\n",
       "      <td>130797</td>\n",
       "      <td>Ann</td>\n",
       "      <td>Gilmore</td>\n",
       "      <td>Female</td>\n",
       "      <td>Maryland</td>\n",
       "      <td>26</td>\n",
       "      <td>1/1/2017</td>\n",
       "      <td>1</td>\n",
       "      <td>married</td>\n",
       "      <td>40374</td>\n",
       "    </tr>\n",
       "  </tbody>\n",
       "</table>\n",
       "</div>"
      ],
      "text/plain": [
       "   user_id First Name    Surnam  Gender       STATE  Age date_joined  \\\n",
       "0    26711    Deborah  Esquivel  Female    Missouri   48    1/1/2017   \n",
       "1    33890   Patricia      Hart  Female  New Mexico   36    1/1/2017   \n",
       "2    65803    Kenneth    Farley    Male       Idaho   35    1/1/2017   \n",
       "3   125935   Michelle     Hicks  Female        Iowa   40    1/1/2017   \n",
       "4   130797        Ann   Gilmore  Female    Maryland   26    1/1/2017   \n",
       "\n",
       "   n_dependants fam_status  income  \n",
       "0             3    married  165665  \n",
       "1             0     single   59285  \n",
       "2             2    married   99568  \n",
       "3             0     single   42049  \n",
       "4             1    married   40374  "
      ]
     },
     "execution_count": 9,
     "metadata": {},
     "output_type": "execute_result"
    }
   ],
   "source": [
    "#Exploring different aspects of customer data to get an idea of what is in the dataframe\n",
    "cust_data.head()"
   ]
  },
  {
   "cell_type": "markdown",
   "id": "fcf0ebe2-296c-4163-99d5-545cace5e090",
   "metadata": {},
   "source": [
    "Observation: This data looks like details for each customer in the dataframe.  Interesting that Instacart included dependents for each of their customers."
   ]
  },
  {
   "cell_type": "code",
   "execution_count": 11,
   "id": "45ad4203-1486-4525-8166-f619a3144e8e",
   "metadata": {},
   "outputs": [
    {
     "data": {
      "text/html": [
       "<div>\n",
       "<style scoped>\n",
       "    .dataframe tbody tr th:only-of-type {\n",
       "        vertical-align: middle;\n",
       "    }\n",
       "\n",
       "    .dataframe tbody tr th {\n",
       "        vertical-align: top;\n",
       "    }\n",
       "\n",
       "    .dataframe thead th {\n",
       "        text-align: right;\n",
       "    }\n",
       "</style>\n",
       "<table border=\"1\" class=\"dataframe\">\n",
       "  <thead>\n",
       "    <tr style=\"text-align: right;\">\n",
       "      <th></th>\n",
       "      <th>user_id</th>\n",
       "      <th>First Name</th>\n",
       "      <th>Surnam</th>\n",
       "      <th>Gender</th>\n",
       "      <th>STATE</th>\n",
       "      <th>Age</th>\n",
       "      <th>date_joined</th>\n",
       "      <th>n_dependants</th>\n",
       "      <th>fam_status</th>\n",
       "      <th>income</th>\n",
       "    </tr>\n",
       "  </thead>\n",
       "  <tbody>\n",
       "    <tr>\n",
       "      <th>206204</th>\n",
       "      <td>168073</td>\n",
       "      <td>Lisa</td>\n",
       "      <td>Case</td>\n",
       "      <td>Female</td>\n",
       "      <td>North Carolina</td>\n",
       "      <td>44</td>\n",
       "      <td>4/1/2020</td>\n",
       "      <td>1</td>\n",
       "      <td>married</td>\n",
       "      <td>148828</td>\n",
       "    </tr>\n",
       "    <tr>\n",
       "      <th>206205</th>\n",
       "      <td>49635</td>\n",
       "      <td>Jeremy</td>\n",
       "      <td>Robbins</td>\n",
       "      <td>Male</td>\n",
       "      <td>Hawaii</td>\n",
       "      <td>62</td>\n",
       "      <td>4/1/2020</td>\n",
       "      <td>3</td>\n",
       "      <td>married</td>\n",
       "      <td>168639</td>\n",
       "    </tr>\n",
       "    <tr>\n",
       "      <th>206206</th>\n",
       "      <td>135902</td>\n",
       "      <td>Doris</td>\n",
       "      <td>Richmond</td>\n",
       "      <td>Female</td>\n",
       "      <td>Missouri</td>\n",
       "      <td>66</td>\n",
       "      <td>4/1/2020</td>\n",
       "      <td>2</td>\n",
       "      <td>married</td>\n",
       "      <td>53374</td>\n",
       "    </tr>\n",
       "    <tr>\n",
       "      <th>206207</th>\n",
       "      <td>81095</td>\n",
       "      <td>Rose</td>\n",
       "      <td>Rollins</td>\n",
       "      <td>Female</td>\n",
       "      <td>California</td>\n",
       "      <td>27</td>\n",
       "      <td>4/1/2020</td>\n",
       "      <td>1</td>\n",
       "      <td>married</td>\n",
       "      <td>99799</td>\n",
       "    </tr>\n",
       "    <tr>\n",
       "      <th>206208</th>\n",
       "      <td>80148</td>\n",
       "      <td>Cynthia</td>\n",
       "      <td>Noble</td>\n",
       "      <td>Female</td>\n",
       "      <td>New York</td>\n",
       "      <td>55</td>\n",
       "      <td>4/1/2020</td>\n",
       "      <td>1</td>\n",
       "      <td>married</td>\n",
       "      <td>57095</td>\n",
       "    </tr>\n",
       "  </tbody>\n",
       "</table>\n",
       "</div>"
      ],
      "text/plain": [
       "        user_id First Name    Surnam  Gender           STATE  Age date_joined  \\\n",
       "206204   168073       Lisa      Case  Female  North Carolina   44    4/1/2020   \n",
       "206205    49635     Jeremy   Robbins    Male          Hawaii   62    4/1/2020   \n",
       "206206   135902      Doris  Richmond  Female        Missouri   66    4/1/2020   \n",
       "206207    81095       Rose   Rollins  Female      California   27    4/1/2020   \n",
       "206208    80148    Cynthia     Noble  Female        New York   55    4/1/2020   \n",
       "\n",
       "        n_dependants fam_status  income  \n",
       "206204             1    married  148828  \n",
       "206205             3    married  168639  \n",
       "206206             2    married   53374  \n",
       "206207             1    married   99799  \n",
       "206208             1    married   57095  "
      ]
     },
     "execution_count": 11,
     "metadata": {},
     "output_type": "execute_result"
    }
   ],
   "source": [
    "cust_data.tail()"
   ]
  },
  {
   "cell_type": "markdown",
   "id": "a178fdb8-aa9b-43ff-947b-1e90b1d8b0d0",
   "metadata": {},
   "source": [
    "Observation:  There are 206,208 rows of customers."
   ]
  },
  {
   "cell_type": "code",
   "execution_count": 13,
   "id": "4b200835-d2ea-4f2f-8e1d-845152747eca",
   "metadata": {},
   "outputs": [
    {
     "data": {
      "text/plain": [
       "(206209, 10)"
      ]
     },
     "execution_count": 13,
     "metadata": {},
     "output_type": "execute_result"
    }
   ],
   "source": [
    "#Total number of rows and columns\n",
    "cust_data.shape"
   ]
  },
  {
   "cell_type": "code",
   "execution_count": 14,
   "id": "f9fb7cf3-8bb9-438d-88e2-595c3ffc9afe",
   "metadata": {},
   "outputs": [
    {
     "name": "stdout",
     "output_type": "stream",
     "text": [
      "<class 'pandas.core.frame.DataFrame'>\n",
      "RangeIndex: 206209 entries, 0 to 206208\n",
      "Data columns (total 10 columns):\n",
      " #   Column        Non-Null Count   Dtype \n",
      "---  ------        --------------   ----- \n",
      " 0   user_id       206209 non-null  int64 \n",
      " 1   First Name    194950 non-null  object\n",
      " 2   Surnam        206209 non-null  object\n",
      " 3   Gender        206209 non-null  object\n",
      " 4   STATE         206209 non-null  object\n",
      " 5   Age           206209 non-null  int64 \n",
      " 6   date_joined   206209 non-null  object\n",
      " 7   n_dependants  206209 non-null  int64 \n",
      " 8   fam_status    206209 non-null  object\n",
      " 9   income        206209 non-null  int64 \n",
      "dtypes: int64(4), object(6)\n",
      "memory usage: 15.7+ MB\n"
     ]
    }
   ],
   "source": [
    "#Getting a look at the basic information about the dataframe\n",
    "cust_data.info()"
   ]
  },
  {
   "cell_type": "markdown",
   "id": "fbe9084e-e43c-4f10-ba6e-e81192ecb5ca",
   "metadata": {},
   "source": [
    "Observation:  This is s a Pandas dataframe.  There are 206209 entries (rows) with idexing starting from 0 to 206209.  Ten (10) columns and \n",
    "the datatypes are int64 and object (objects in Pandas is a string).  The dataframe takes up approx 16 MB of memory on my laptop.  It's interesting that the dtype for what I would think is a string is listed as an object.\n",
    "\n",
    "There looks to be missing values in the First Name column."
   ]
  },
  {
   "cell_type": "code",
   "execution_count": 16,
   "id": "6e30d4d9-9b29-416e-abb9-79be9c7e1a67",
   "metadata": {},
   "outputs": [
    {
     "data": {
      "text/plain": [
       "First Name\n",
       "<class 'str'>      194950\n",
       "<class 'float'>     11259\n",
       "Name: count, dtype: int64"
      ]
     },
     "execution_count": 16,
     "metadata": {},
     "output_type": "execute_result"
    }
   ],
   "source": [
    "#Checking the .value_counts() of the First Name column\n",
    "cust_data['First Name'].apply(type).value_counts()"
   ]
  },
  {
   "cell_type": "markdown",
   "id": "6f99bb8d-2d81-46d4-83f5-5365202e9a20",
   "metadata": {},
   "source": [
    "Observation:  There is a mixed datatype in the First Name column.  Will address this in the Data Quality and Consistency section of this script"
   ]
  },
  {
   "cell_type": "code",
   "execution_count": 18,
   "id": "953cffe7-ab2d-4286-846f-0ae34e699d72",
   "metadata": {},
   "outputs": [
    {
     "data": {
      "text/html": [
       "<div>\n",
       "<style scoped>\n",
       "    .dataframe tbody tr th:only-of-type {\n",
       "        vertical-align: middle;\n",
       "    }\n",
       "\n",
       "    .dataframe tbody tr th {\n",
       "        vertical-align: top;\n",
       "    }\n",
       "\n",
       "    .dataframe thead th {\n",
       "        text-align: right;\n",
       "    }\n",
       "</style>\n",
       "<table border=\"1\" class=\"dataframe\">\n",
       "  <thead>\n",
       "    <tr style=\"text-align: right;\">\n",
       "      <th></th>\n",
       "      <th>user_id</th>\n",
       "      <th>Age</th>\n",
       "      <th>n_dependants</th>\n",
       "      <th>income</th>\n",
       "    </tr>\n",
       "  </thead>\n",
       "  <tbody>\n",
       "    <tr>\n",
       "      <th>count</th>\n",
       "      <td>206209.000000</td>\n",
       "      <td>206209.000000</td>\n",
       "      <td>206209.000000</td>\n",
       "      <td>206209.000000</td>\n",
       "    </tr>\n",
       "    <tr>\n",
       "      <th>mean</th>\n",
       "      <td>103105.000000</td>\n",
       "      <td>49.501646</td>\n",
       "      <td>1.499823</td>\n",
       "      <td>94632.852548</td>\n",
       "    </tr>\n",
       "    <tr>\n",
       "      <th>std</th>\n",
       "      <td>59527.555167</td>\n",
       "      <td>18.480962</td>\n",
       "      <td>1.118433</td>\n",
       "      <td>42473.786988</td>\n",
       "    </tr>\n",
       "    <tr>\n",
       "      <th>min</th>\n",
       "      <td>1.000000</td>\n",
       "      <td>18.000000</td>\n",
       "      <td>0.000000</td>\n",
       "      <td>25903.000000</td>\n",
       "    </tr>\n",
       "    <tr>\n",
       "      <th>25%</th>\n",
       "      <td>51553.000000</td>\n",
       "      <td>33.000000</td>\n",
       "      <td>0.000000</td>\n",
       "      <td>59874.000000</td>\n",
       "    </tr>\n",
       "    <tr>\n",
       "      <th>50%</th>\n",
       "      <td>103105.000000</td>\n",
       "      <td>49.000000</td>\n",
       "      <td>1.000000</td>\n",
       "      <td>93547.000000</td>\n",
       "    </tr>\n",
       "    <tr>\n",
       "      <th>75%</th>\n",
       "      <td>154657.000000</td>\n",
       "      <td>66.000000</td>\n",
       "      <td>3.000000</td>\n",
       "      <td>124244.000000</td>\n",
       "    </tr>\n",
       "    <tr>\n",
       "      <th>max</th>\n",
       "      <td>206209.000000</td>\n",
       "      <td>81.000000</td>\n",
       "      <td>3.000000</td>\n",
       "      <td>593901.000000</td>\n",
       "    </tr>\n",
       "  </tbody>\n",
       "</table>\n",
       "</div>"
      ],
      "text/plain": [
       "             user_id            Age   n_dependants         income\n",
       "count  206209.000000  206209.000000  206209.000000  206209.000000\n",
       "mean   103105.000000      49.501646       1.499823   94632.852548\n",
       "std     59527.555167      18.480962       1.118433   42473.786988\n",
       "min         1.000000      18.000000       0.000000   25903.000000\n",
       "25%     51553.000000      33.000000       0.000000   59874.000000\n",
       "50%    103105.000000      49.000000       1.000000   93547.000000\n",
       "75%    154657.000000      66.000000       3.000000  124244.000000\n",
       "max    206209.000000      81.000000       3.000000  593901.000000"
      ]
     },
     "execution_count": 18,
     "metadata": {},
     "output_type": "execute_result"
    }
   ],
   "source": [
    "#Descriptive statistics\n",
    "cust_data.describe()"
   ]
  },
  {
   "cell_type": "markdown",
   "id": "d4c823a4-0240-41bd-ab2d-00f730416308",
   "metadata": {},
   "source": [
    "Observations: This summary shows statistics for 4 numerical colums:  user_id, Age, n_dependents, and income.\n",
    "\n",
    "Column analysis:\n",
    "user_id:  there are 206209 entries, with no missing values.\n",
    "        Range:  the ID's span from 1 to 206209\n",
    "        \n",
    "        Insight:  This field looks like an identifier field, with no other significant insight\n",
    "\n",
    "Age:  the average age is approx 50 years old\n",
    "\n",
    "        Range:  18 to 81 years old\n",
    "        \n",
    "        Quartiles:  25th is 33 years old\n",
    "                    50th is 49 years old\n",
    "                    75th is 66 years old\n",
    "                    \n",
    "        Insight:  It looks like most of the customers are middle-aged, but there is a significant representation of younger and older customers\n",
    "\n",
    "n_dependents:  the average number of dependents per customer is approx 1.5. Since you really can't have .5 of a human, these numbers account for variations in the data, ie having 1 or 3 dependents (avg is 1.5).\n",
    "\n",
    "        Std Deviation:  is approx 1.12 which indicates that customers are likely to have 1 or 2 dependents.  There are fewer customers that have 0 or 3 dependents.\n",
    "\n",
    "income:  the average income is approx 95,000\n",
    "\n",
    "        Range: approx 26,000 to 594,000\n",
    "        \n",
    "        Std Deviation:  approx 42,000, which indicates a widespread range of incomes\n",
    "        \n",
    "        Quartiles:  25th is approx 60,000\n",
    "                    50th is approx 94,000\n",
    "                    75th is approx 124,000\n",
    "                    \n",
    "        Insights:  it looks like the income distribution leans towards higher earners, however, there does seem to be income disparity."
   ]
  },
  {
   "cell_type": "markdown",
   "id": "4c8d0b2f-e3ef-45bf-9eba-0fc9e2490520",
   "metadata": {},
   "source": [
    "5. ***Wrangle Data***"
   ]
  },
  {
   "cell_type": "code",
   "execution_count": 21,
   "id": "72898e13-40df-4b56-87ef-c8fbaf75dcd7",
   "metadata": {},
   "outputs": [
    {
     "data": {
      "text/html": [
       "<div>\n",
       "<style scoped>\n",
       "    .dataframe tbody tr th:only-of-type {\n",
       "        vertical-align: middle;\n",
       "    }\n",
       "\n",
       "    .dataframe tbody tr th {\n",
       "        vertical-align: top;\n",
       "    }\n",
       "\n",
       "    .dataframe thead th {\n",
       "        text-align: right;\n",
       "    }\n",
       "</style>\n",
       "<table border=\"1\" class=\"dataframe\">\n",
       "  <thead>\n",
       "    <tr style=\"text-align: right;\">\n",
       "      <th></th>\n",
       "      <th>user_id</th>\n",
       "      <th>First Name</th>\n",
       "      <th>Surnam</th>\n",
       "      <th>Gender</th>\n",
       "      <th>STATE</th>\n",
       "      <th>Age</th>\n",
       "      <th>date_joined</th>\n",
       "      <th>n_dependants</th>\n",
       "      <th>fam_status</th>\n",
       "      <th>income</th>\n",
       "    </tr>\n",
       "  </thead>\n",
       "  <tbody>\n",
       "    <tr>\n",
       "      <th>0</th>\n",
       "      <td>26711</td>\n",
       "      <td>Deborah</td>\n",
       "      <td>Esquivel</td>\n",
       "      <td>Female</td>\n",
       "      <td>Missouri</td>\n",
       "      <td>48</td>\n",
       "      <td>1/1/2017</td>\n",
       "      <td>3</td>\n",
       "      <td>married</td>\n",
       "      <td>165665</td>\n",
       "    </tr>\n",
       "    <tr>\n",
       "      <th>1</th>\n",
       "      <td>33890</td>\n",
       "      <td>Patricia</td>\n",
       "      <td>Hart</td>\n",
       "      <td>Female</td>\n",
       "      <td>New Mexico</td>\n",
       "      <td>36</td>\n",
       "      <td>1/1/2017</td>\n",
       "      <td>0</td>\n",
       "      <td>single</td>\n",
       "      <td>59285</td>\n",
       "    </tr>\n",
       "    <tr>\n",
       "      <th>2</th>\n",
       "      <td>65803</td>\n",
       "      <td>Kenneth</td>\n",
       "      <td>Farley</td>\n",
       "      <td>Male</td>\n",
       "      <td>Idaho</td>\n",
       "      <td>35</td>\n",
       "      <td>1/1/2017</td>\n",
       "      <td>2</td>\n",
       "      <td>married</td>\n",
       "      <td>99568</td>\n",
       "    </tr>\n",
       "    <tr>\n",
       "      <th>3</th>\n",
       "      <td>125935</td>\n",
       "      <td>Michelle</td>\n",
       "      <td>Hicks</td>\n",
       "      <td>Female</td>\n",
       "      <td>Iowa</td>\n",
       "      <td>40</td>\n",
       "      <td>1/1/2017</td>\n",
       "      <td>0</td>\n",
       "      <td>single</td>\n",
       "      <td>42049</td>\n",
       "    </tr>\n",
       "    <tr>\n",
       "      <th>4</th>\n",
       "      <td>130797</td>\n",
       "      <td>Ann</td>\n",
       "      <td>Gilmore</td>\n",
       "      <td>Female</td>\n",
       "      <td>Maryland</td>\n",
       "      <td>26</td>\n",
       "      <td>1/1/2017</td>\n",
       "      <td>1</td>\n",
       "      <td>married</td>\n",
       "      <td>40374</td>\n",
       "    </tr>\n",
       "  </tbody>\n",
       "</table>\n",
       "</div>"
      ],
      "text/plain": [
       "   user_id First Name    Surnam  Gender       STATE  Age date_joined  \\\n",
       "0    26711    Deborah  Esquivel  Female    Missouri   48    1/1/2017   \n",
       "1    33890   Patricia      Hart  Female  New Mexico   36    1/1/2017   \n",
       "2    65803    Kenneth    Farley    Male       Idaho   35    1/1/2017   \n",
       "3   125935   Michelle     Hicks  Female        Iowa   40    1/1/2017   \n",
       "4   130797        Ann   Gilmore  Female    Maryland   26    1/1/2017   \n",
       "\n",
       "   n_dependants fam_status  income  \n",
       "0             3    married  165665  \n",
       "1             0     single   59285  \n",
       "2             2    married   99568  \n",
       "3             0     single   42049  \n",
       "4             1    married   40374  "
      ]
     },
     "execution_count": 21,
     "metadata": {},
     "output_type": "execute_result"
    }
   ],
   "source": [
    "#Review headers for renaming\n",
    "cust_data.head()"
   ]
  },
  {
   "cell_type": "code",
   "execution_count": 22,
   "id": "b04bd52a-ea37-4d40-abca-b548809d8455",
   "metadata": {},
   "outputs": [],
   "source": [
    "#Renaming columns\n",
    "cust_data = cust_data.rename(columns={ \n",
    "    'Surnam' : 'Last Name', \n",
    "    'STATE' : 'State', \n",
    "    'date_joined' : 'Date Joined', \n",
    "    'n_dependants' : 'Number of Dependents', \n",
    "    'fam_status' : 'Family Status', \n",
    "    'income' : 'Income',\n",
    "    'user_id' : 'Customer_ID'})"
   ]
  },
  {
   "cell_type": "code",
   "execution_count": 23,
   "id": "1b28d179-ba65-4d31-94ed-49a9ee7cd55b",
   "metadata": {},
   "outputs": [
    {
     "data": {
      "text/html": [
       "<div>\n",
       "<style scoped>\n",
       "    .dataframe tbody tr th:only-of-type {\n",
       "        vertical-align: middle;\n",
       "    }\n",
       "\n",
       "    .dataframe tbody tr th {\n",
       "        vertical-align: top;\n",
       "    }\n",
       "\n",
       "    .dataframe thead th {\n",
       "        text-align: right;\n",
       "    }\n",
       "</style>\n",
       "<table border=\"1\" class=\"dataframe\">\n",
       "  <thead>\n",
       "    <tr style=\"text-align: right;\">\n",
       "      <th></th>\n",
       "      <th>Customer_ID</th>\n",
       "      <th>First Name</th>\n",
       "      <th>Last Name</th>\n",
       "      <th>Gender</th>\n",
       "      <th>State</th>\n",
       "      <th>Age</th>\n",
       "      <th>Date Joined</th>\n",
       "      <th>Number of Dependents</th>\n",
       "      <th>Family Status</th>\n",
       "      <th>Income</th>\n",
       "    </tr>\n",
       "  </thead>\n",
       "  <tbody>\n",
       "    <tr>\n",
       "      <th>0</th>\n",
       "      <td>26711</td>\n",
       "      <td>Deborah</td>\n",
       "      <td>Esquivel</td>\n",
       "      <td>Female</td>\n",
       "      <td>Missouri</td>\n",
       "      <td>48</td>\n",
       "      <td>1/1/2017</td>\n",
       "      <td>3</td>\n",
       "      <td>married</td>\n",
       "      <td>165665</td>\n",
       "    </tr>\n",
       "    <tr>\n",
       "      <th>1</th>\n",
       "      <td>33890</td>\n",
       "      <td>Patricia</td>\n",
       "      <td>Hart</td>\n",
       "      <td>Female</td>\n",
       "      <td>New Mexico</td>\n",
       "      <td>36</td>\n",
       "      <td>1/1/2017</td>\n",
       "      <td>0</td>\n",
       "      <td>single</td>\n",
       "      <td>59285</td>\n",
       "    </tr>\n",
       "    <tr>\n",
       "      <th>2</th>\n",
       "      <td>65803</td>\n",
       "      <td>Kenneth</td>\n",
       "      <td>Farley</td>\n",
       "      <td>Male</td>\n",
       "      <td>Idaho</td>\n",
       "      <td>35</td>\n",
       "      <td>1/1/2017</td>\n",
       "      <td>2</td>\n",
       "      <td>married</td>\n",
       "      <td>99568</td>\n",
       "    </tr>\n",
       "    <tr>\n",
       "      <th>3</th>\n",
       "      <td>125935</td>\n",
       "      <td>Michelle</td>\n",
       "      <td>Hicks</td>\n",
       "      <td>Female</td>\n",
       "      <td>Iowa</td>\n",
       "      <td>40</td>\n",
       "      <td>1/1/2017</td>\n",
       "      <td>0</td>\n",
       "      <td>single</td>\n",
       "      <td>42049</td>\n",
       "    </tr>\n",
       "    <tr>\n",
       "      <th>4</th>\n",
       "      <td>130797</td>\n",
       "      <td>Ann</td>\n",
       "      <td>Gilmore</td>\n",
       "      <td>Female</td>\n",
       "      <td>Maryland</td>\n",
       "      <td>26</td>\n",
       "      <td>1/1/2017</td>\n",
       "      <td>1</td>\n",
       "      <td>married</td>\n",
       "      <td>40374</td>\n",
       "    </tr>\n",
       "  </tbody>\n",
       "</table>\n",
       "</div>"
      ],
      "text/plain": [
       "   Customer_ID First Name Last Name  Gender       State  Age Date Joined  \\\n",
       "0        26711    Deborah  Esquivel  Female    Missouri   48    1/1/2017   \n",
       "1        33890   Patricia      Hart  Female  New Mexico   36    1/1/2017   \n",
       "2        65803    Kenneth    Farley    Male       Idaho   35    1/1/2017   \n",
       "3       125935   Michelle     Hicks  Female        Iowa   40    1/1/2017   \n",
       "4       130797        Ann   Gilmore  Female    Maryland   26    1/1/2017   \n",
       "\n",
       "   Number of Dependents Family Status  Income  \n",
       "0                     3       married  165665  \n",
       "1                     0        single   59285  \n",
       "2                     2       married   99568  \n",
       "3                     0        single   42049  \n",
       "4                     1       married   40374  "
      ]
     },
     "execution_count": 23,
     "metadata": {},
     "output_type": "execute_result"
    }
   ],
   "source": [
    "cust_data.head()"
   ]
  },
  {
   "cell_type": "markdown",
   "id": "5d1a5aa3-0758-4d71-b5b1-194f565ca4b6",
   "metadata": {},
   "source": [
    "Observation:  All header names are uniform and plainly descriptive.  I made sure to change the User_ID to Customer_ID as this column will act as a \"key characteristic\" when I merge the cust_data dataframe with the ords_prods_merge dataframe."
   ]
  },
  {
   "cell_type": "markdown",
   "id": "4ae8cca5-8d3a-476e-b5d3-9a3185b53fbb",
   "metadata": {},
   "source": [
    "6. ***Data Quality & Consistency Checks***"
   ]
  },
  {
   "cell_type": "code",
   "execution_count": 26,
   "id": "64a07a81-e573-47d9-aaf1-fa57d9841936",
   "metadata": {},
   "outputs": [
    {
     "name": "stdout",
     "output_type": "stream",
     "text": [
      "<class 'pandas.core.frame.DataFrame'>\n",
      "RangeIndex: 206209 entries, 0 to 206208\n",
      "Data columns (total 10 columns):\n",
      " #   Column                Non-Null Count   Dtype \n",
      "---  ------                --------------   ----- \n",
      " 0   Customer_ID           206209 non-null  int64 \n",
      " 1   First Name            194950 non-null  object\n",
      " 2   Last Name             206209 non-null  object\n",
      " 3   Gender                206209 non-null  object\n",
      " 4   State                 206209 non-null  object\n",
      " 5   Age                   206209 non-null  int64 \n",
      " 6   Date Joined           206209 non-null  object\n",
      " 7   Number of Dependents  206209 non-null  int64 \n",
      " 8   Family Status         206209 non-null  object\n",
      " 9   Income                206209 non-null  int64 \n",
      "dtypes: int64(4), object(6)\n",
      "memory usage: 15.7+ MB\n"
     ]
    }
   ],
   "source": [
    "#Taking a second look at missing values in First Name column\n",
    "cust_data.info()"
   ]
  },
  {
   "cell_type": "markdown",
   "id": "3aee61b9-7d24-44e2-8bc6-0bc0f610ac51",
   "metadata": {},
   "source": [
    "Observation:  looking at the dtype \"object\" for columns like First Name and Last Name.  Shouldn't these be strings?  Googled what this means \n",
    "and got:  \n",
    "\n",
    "In pandas, the object dtype is a general-purpose type that can hold any Python objects. When strings are stored in a DataFrame, they \n",
    "are represented as object. Therefore, the columns with object data type likely contain strings.\n",
    "\n",
    "Additionally, I think there may be some missing values in the First Name column."
   ]
  },
  {
   "cell_type": "code",
   "execution_count": 28,
   "id": "6bf69fa4-b81f-424b-9d00-74e73d1f93e3",
   "metadata": {},
   "outputs": [
    {
     "data": {
      "text/plain": [
       "First Name\n",
       "<class 'str'>      194950\n",
       "<class 'float'>     11259\n",
       "Name: count, dtype: int64"
      ]
     },
     "execution_count": 28,
     "metadata": {},
     "output_type": "execute_result"
    }
   ],
   "source": [
    "#Adressing the mixed datatype in the First Name column using the .value_counts() function\n",
    "cust_data['First Name'].apply(type).value_counts()"
   ]
  },
  {
   "cell_type": "code",
   "execution_count": 29,
   "id": "a12de60b-05b6-43e3-a168-f213411ebbd0",
   "metadata": {},
   "outputs": [
    {
     "data": {
      "text/plain": [
       "Customer_ID                 0\n",
       "First Name              11259\n",
       "Last Name                   0\n",
       "Gender                      0\n",
       "State                       0\n",
       "Age                         0\n",
       "Date Joined                 0\n",
       "Number of Dependents        0\n",
       "Family Status               0\n",
       "Income                      0\n",
       "dtype: int64"
      ]
     },
     "execution_count": 29,
     "metadata": {},
     "output_type": "execute_result"
    }
   ],
   "source": [
    "#Counting missing values\n",
    "cust_data.isnull().sum()"
   ]
  },
  {
   "cell_type": "markdown",
   "id": "67baba3a-d4d6-4103-9d90-99f3e451f56a",
   "metadata": {},
   "source": [
    "Observation:  it looks like there are 11,259 instances where a customer's first name is missing.  This probably won't hinder my analysis.  I don't think there is a need to impute Names (strings) for this column, however, the mixed datatype does need to be addressed by making it uniform.  I will make it a string as this is a column for names."
   ]
  },
  {
   "cell_type": "code",
   "execution_count": 31,
   "id": "15b9bbc4-54b0-4ae6-b716-ac5ee19756db",
   "metadata": {},
   "outputs": [],
   "source": [
    "#Changing the datatype in the First Name column to string\n",
    "cust_data['First Name'] = cust_data['First Name'].astype(str)"
   ]
  },
  {
   "cell_type": "code",
   "execution_count": 32,
   "id": "11ad9463-f9f4-4f6b-b3c6-88f2e0071d58",
   "metadata": {},
   "outputs": [
    {
     "data": {
      "text/plain": [
       "First Name\n",
       "<class 'str'>    206209\n",
       "Name: count, dtype: int64"
      ]
     },
     "execution_count": 32,
     "metadata": {},
     "output_type": "execute_result"
    }
   ],
   "source": [
    "#Confirming datatype change in First Name column\n",
    "cust_data['First Name'].apply(type).value_counts()"
   ]
  },
  {
   "cell_type": "code",
   "execution_count": 33,
   "id": "ca13a5c5-aa71-47d4-b026-83bb8aa06bec",
   "metadata": {},
   "outputs": [],
   "source": [
    "#View missing values in a subset of the dataframe\n",
    "df_nan_cust=cust_data[cust_data['First Name'].isnull()==True]"
   ]
  },
  {
   "cell_type": "code",
   "execution_count": 34,
   "id": "1c0dc227-aaac-4014-a75e-c4aec06bd4a0",
   "metadata": {},
   "outputs": [
    {
     "data": {
      "text/html": [
       "<div>\n",
       "<style scoped>\n",
       "    .dataframe tbody tr th:only-of-type {\n",
       "        vertical-align: middle;\n",
       "    }\n",
       "\n",
       "    .dataframe tbody tr th {\n",
       "        vertical-align: top;\n",
       "    }\n",
       "\n",
       "    .dataframe thead th {\n",
       "        text-align: right;\n",
       "    }\n",
       "</style>\n",
       "<table border=\"1\" class=\"dataframe\">\n",
       "  <thead>\n",
       "    <tr style=\"text-align: right;\">\n",
       "      <th></th>\n",
       "      <th>Customer_ID</th>\n",
       "      <th>First Name</th>\n",
       "      <th>Last Name</th>\n",
       "      <th>Gender</th>\n",
       "      <th>State</th>\n",
       "      <th>Age</th>\n",
       "      <th>Date Joined</th>\n",
       "      <th>Number of Dependents</th>\n",
       "      <th>Family Status</th>\n",
       "      <th>Income</th>\n",
       "    </tr>\n",
       "  </thead>\n",
       "  <tbody>\n",
       "  </tbody>\n",
       "</table>\n",
       "</div>"
      ],
      "text/plain": [
       "Empty DataFrame\n",
       "Columns: [Customer_ID, First Name, Last Name, Gender, State, Age, Date Joined, Number of Dependents, Family Status, Income]\n",
       "Index: []"
      ]
     },
     "execution_count": 34,
     "metadata": {},
     "output_type": "execute_result"
    }
   ],
   "source": [
    "#Printing results of subset of NaN in the First Name column\n",
    "df_nan_cust"
   ]
  },
  {
   "cell_type": "markdown",
   "id": "82e787f1-3e80-4b08-8b5c-7d185cacf931",
   "metadata": {},
   "source": [
    "Observation: Again, missing first names will most likely NOT impact the analysis; therefore, I will leave these NaN values as is."
   ]
  },
  {
   "cell_type": "code",
   "execution_count": 36,
   "id": "f7880cd0-ad2a-4476-b2fc-2b77ca666764",
   "metadata": {},
   "outputs": [],
   "source": [
    "#Looking for full duplicates\n",
    "cust_dups=cust_data[cust_data.duplicated()]"
   ]
  },
  {
   "cell_type": "code",
   "execution_count": 37,
   "id": "e702a34c-bb78-4053-8839-286ba05658cd",
   "metadata": {},
   "outputs": [
    {
     "name": "stdout",
     "output_type": "stream",
     "text": [
      "Empty DataFrame\n",
      "Columns: [Customer_ID, First Name, Last Name, Gender, State, Age, Date Joined, Number of Dependents, Family Status, Income]\n",
      "Index: []\n"
     ]
    }
   ],
   "source": [
    "print(cust_dups)"
   ]
  },
  {
   "cell_type": "markdown",
   "id": "63c262fa-da30-48b7-b08b-11fa97030f6a",
   "metadata": {},
   "source": [
    "Observation: No full duplicates!  Yay!"
   ]
  },
  {
   "cell_type": "markdown",
   "id": "d317b3f4-d6bf-46fe-aca5-d0a58ed3fe96",
   "metadata": {},
   "source": [
    "7. ***Combine customer data with ords_prods data***"
   ]
  },
  {
   "cell_type": "markdown",
   "id": "b7ecfaa5-9325-42a1-bffa-3f57122977e7",
   "metadata": {},
   "source": [
    "Observation: Before writing the code to combine the dataframes, I looked at the three types of ways to combine the data: concatenating (combining dataframes that match in shape), joining (most useful when combining dataframes that have the same or related indicies), and merge (most useful for combining dataframes that do not match in shape). The dataframes that I will combine do not match in shape, so the best option is the merge method. I will use the INNER JOIN with the merge function because it will keep rows only where the key (Customer_ID) column is a match. It will exclude (drop) rows where a Key is not found for both. I thought this would be helpful, rather than the options for the other joins (Right, Left, Full Outer) because the other options would include NaN for the missing or non-matching value. Before I merge both dataframes on the \"Customer_ID\" column, I need to make sure that both dataframes have the same format for the header. That means I need to change the ords_prods_merge_grouped dataframe."
   ]
  },
  {
   "cell_type": "code",
   "execution_count": 86,
   "id": "81a115e6-6381-44af-9e33-fa52ae309c92",
   "metadata": {},
   "outputs": [
    {
     "data": {
      "text/plain": [
       "(206209, 10)"
      ]
     },
     "execution_count": 86,
     "metadata": {},
     "output_type": "execute_result"
    }
   ],
   "source": [
    "cust_data.shape"
   ]
  },
  {
   "cell_type": "code",
   "execution_count": 41,
   "id": "e44b5a0e-0a3f-4f51-a717-aa432ffe32dd",
   "metadata": {},
   "outputs": [],
   "source": [
    "#Importing the ords_prods_merge_grouped dataframe\n",
    "ords_prods_merge=pd.read_pickle(os.path.join(path, '02 Data', 'Prepared Data', 'orders_products_merge_grouped.pkl'))"
   ]
  },
  {
   "cell_type": "code",
   "execution_count": 42,
   "id": "7d68781b-4337-4fd7-93f4-d3d07701e291",
   "metadata": {},
   "outputs": [
    {
     "data": {
      "text/html": [
       "<div>\n",
       "<style scoped>\n",
       "    .dataframe tbody tr th:only-of-type {\n",
       "        vertical-align: middle;\n",
       "    }\n",
       "\n",
       "    .dataframe tbody tr th {\n",
       "        vertical-align: top;\n",
       "    }\n",
       "\n",
       "    .dataframe thead th {\n",
       "        text-align: right;\n",
       "    }\n",
       "</style>\n",
       "<table border=\"1\" class=\"dataframe\">\n",
       "  <thead>\n",
       "    <tr style=\"text-align: right;\">\n",
       "      <th></th>\n",
       "      <th>order_id</th>\n",
       "      <th>customer_id</th>\n",
       "      <th>order_number</th>\n",
       "      <th>order_hour_of_day</th>\n",
       "      <th>days_since_prior_order</th>\n",
       "      <th>order_day_of_week_name</th>\n",
       "      <th>is_first_order</th>\n",
       "      <th>product_id</th>\n",
       "      <th>add_to_cart_order</th>\n",
       "      <th>reordered</th>\n",
       "      <th>...</th>\n",
       "      <th>price_range_loc</th>\n",
       "      <th>Busiest_Day</th>\n",
       "      <th>Busiest_Days</th>\n",
       "      <th>Busiest_Period_of_Day</th>\n",
       "      <th>max_order</th>\n",
       "      <th>loyalty_flag</th>\n",
       "      <th>avg_product_price</th>\n",
       "      <th>spend_flag</th>\n",
       "      <th>avg_days_between_orders</th>\n",
       "      <th>order_frequency_flag</th>\n",
       "    </tr>\n",
       "  </thead>\n",
       "  <tbody>\n",
       "  </tbody>\n",
       "</table>\n",
       "<p>0 rows × 25 columns</p>\n",
       "</div>"
      ],
      "text/plain": [
       "Empty DataFrame\n",
       "Columns: [order_id, customer_id, order_number, order_hour_of_day, days_since_prior_order, order_day_of_week_name, is_first_order, product_id, add_to_cart_order, reordered, _merge, product_name, aisle_id, department_id, prices, price_range_loc, Busiest_Day, Busiest_Days, Busiest_Period_of_Day, max_order, loyalty_flag, avg_product_price, spend_flag, avg_days_between_orders, order_frequency_flag]\n",
       "Index: []\n",
       "\n",
       "[0 rows x 25 columns]"
      ]
     },
     "execution_count": 42,
     "metadata": {},
     "output_type": "execute_result"
    }
   ],
   "source": [
    "#Printing the header info\n",
    "ords_prods_merge.head(0)"
   ]
  },
  {
   "cell_type": "code",
   "execution_count": 43,
   "id": "5b48beb0-b05d-4c86-9df7-5f3c6cca4d3e",
   "metadata": {},
   "outputs": [],
   "source": [
    "#Renaming the column header from \"customer_id\" to \"Customer_ID\" in the ords_prods_merge_grouped dataframe so it matches the cust_data dataframe\n",
    "ords_prods_merge = ords_prods_merge.rename(columns={ \n",
    "        'customer_id' : 'Customer_ID'})"
   ]
  },
  {
   "cell_type": "code",
   "execution_count": 44,
   "id": "a07c33fe-b501-41e5-b81f-491bedb98877",
   "metadata": {},
   "outputs": [
    {
     "data": {
      "text/html": [
       "<div>\n",
       "<style scoped>\n",
       "    .dataframe tbody tr th:only-of-type {\n",
       "        vertical-align: middle;\n",
       "    }\n",
       "\n",
       "    .dataframe tbody tr th {\n",
       "        vertical-align: top;\n",
       "    }\n",
       "\n",
       "    .dataframe thead th {\n",
       "        text-align: right;\n",
       "    }\n",
       "</style>\n",
       "<table border=\"1\" class=\"dataframe\">\n",
       "  <thead>\n",
       "    <tr style=\"text-align: right;\">\n",
       "      <th></th>\n",
       "      <th>order_id</th>\n",
       "      <th>Customer_ID</th>\n",
       "      <th>order_number</th>\n",
       "      <th>order_hour_of_day</th>\n",
       "      <th>days_since_prior_order</th>\n",
       "      <th>order_day_of_week_name</th>\n",
       "      <th>is_first_order</th>\n",
       "      <th>product_id</th>\n",
       "      <th>add_to_cart_order</th>\n",
       "      <th>reordered</th>\n",
       "      <th>...</th>\n",
       "      <th>price_range_loc</th>\n",
       "      <th>Busiest_Day</th>\n",
       "      <th>Busiest_Days</th>\n",
       "      <th>Busiest_Period_of_Day</th>\n",
       "      <th>max_order</th>\n",
       "      <th>loyalty_flag</th>\n",
       "      <th>avg_product_price</th>\n",
       "      <th>spend_flag</th>\n",
       "      <th>avg_days_between_orders</th>\n",
       "      <th>order_frequency_flag</th>\n",
       "    </tr>\n",
       "  </thead>\n",
       "  <tbody>\n",
       "  </tbody>\n",
       "</table>\n",
       "<p>0 rows × 25 columns</p>\n",
       "</div>"
      ],
      "text/plain": [
       "Empty DataFrame\n",
       "Columns: [order_id, Customer_ID, order_number, order_hour_of_day, days_since_prior_order, order_day_of_week_name, is_first_order, product_id, add_to_cart_order, reordered, _merge, product_name, aisle_id, department_id, prices, price_range_loc, Busiest_Day, Busiest_Days, Busiest_Period_of_Day, max_order, loyalty_flag, avg_product_price, spend_flag, avg_days_between_orders, order_frequency_flag]\n",
       "Index: []\n",
       "\n",
       "[0 rows x 25 columns]"
      ]
     },
     "execution_count": 44,
     "metadata": {},
     "output_type": "execute_result"
    }
   ],
   "source": [
    "#Confirming column has been renamed\n",
    "ords_prods_merge.head(0)"
   ]
  },
  {
   "cell_type": "markdown",
   "id": "4109790e-8a33-462b-82a7-49c3e85740f0",
   "metadata": {},
   "source": [
    "Observation: Success!  \"Customer_ID\" has been changed in the ords_prods_merge dataframe!  Now the common identifier column, \"Customer_ID\", matches\n",
    "in both dataframes."
   ]
  },
  {
   "cell_type": "code",
   "execution_count": 46,
   "id": "cf55dcfc-ea6c-42cf-9c68-fc28978428bb",
   "metadata": {},
   "outputs": [
    {
     "name": "stdout",
     "output_type": "stream",
     "text": [
      "Index(['order_id', 'Customer_ID', 'order_number', 'order_hour_of_day',\n",
      "       'days_since_prior_order', 'order_day_of_week_name', 'is_first_order',\n",
      "       'product_id', 'add_to_cart_order', 'reordered', '_merge',\n",
      "       'product_name', 'aisle_id', 'department_id', 'prices',\n",
      "       'price_range_loc', 'Busiest_Day', 'Busiest_Days',\n",
      "       'Busiest_Period_of_Day', 'max_order', 'loyalty_flag',\n",
      "       'avg_product_price', 'spend_flag', 'avg_days_between_orders',\n",
      "       'order_frequency_flag'],\n",
      "      dtype='object')\n"
     ]
    }
   ],
   "source": [
    "#Printing the column names for the ords_prods_merge dataframe (print() will list all column heads separated by comma for easy viewing)\n",
    "print(ords_prods_merge.columns)"
   ]
  },
  {
   "cell_type": "markdown",
   "id": "e6de1c20-72f9-4fc0-bedf-1488b0003f98",
   "metadata": {},
   "source": [
    "Observation:  I already included an indicator column ('_merge') when I joined the Orders dataframe to the Products dataframe.  I want to also include this indicator column when I join the ords_prods_merge dataframe to the cust_data dataframe.  To do that, I'll need to complete it four steps to stop getting the error messages for position arguments and incorrect use of indicator column.  First, rename existing _merge to _merge_old.  Next, merge ords_prods_merge and cust_data dataframes.  Then rename indicator column from _merge_old to _merge2.  Finally, use print.columns() to make sure merging (joining) of dataframes and renaming of the indicator column executed correctly.  "
   ]
  },
  {
   "cell_type": "code",
   "execution_count": 48,
   "id": "16b46441-ff51-4038-8dc5-c2679336803e",
   "metadata": {},
   "outputs": [],
   "source": [
    "# Step 1: Rename the existing '_merge' column to '_merge_old'\n",
    "ords_prods_merge = ords_prods_merge.rename(columns={'_merge': '_merge_old'})"
   ]
  },
  {
   "cell_type": "code",
   "execution_count": 49,
   "id": "466282e5-4097-47e4-9aec-09d8e499613d",
   "metadata": {},
   "outputs": [],
   "source": [
    "# Step 2: Merge the dataframes with a new '_merge' column using indicator=True\n",
    "ords_prods_cust_merge = ords_prods_merge.merge(cust_data, on='Customer_ID', indicator=True)"
   ]
  },
  {
   "cell_type": "code",
   "execution_count": 50,
   "id": "b4489e04-316b-483f-b81a-ae0de4d8573e",
   "metadata": {},
   "outputs": [],
   "source": [
    "# Step 3: Rename the new '_merge' column to '_merge2'\n",
    "ords_prods_cust_merge = ords_prods_cust_merge.rename(columns={'_merge': '_merge2'})"
   ]
  },
  {
   "cell_type": "code",
   "execution_count": 51,
   "id": "5e3a2eeb-ca1d-4695-9625-7ac1de045128",
   "metadata": {},
   "outputs": [
    {
     "name": "stdout",
     "output_type": "stream",
     "text": [
      "Index(['order_id', 'Customer_ID', 'order_number', 'order_hour_of_day',\n",
      "       'days_since_prior_order', 'order_day_of_week_name', 'is_first_order',\n",
      "       'product_id', 'add_to_cart_order', 'reordered', '_merge_old',\n",
      "       'product_name', 'aisle_id', 'department_id', 'prices',\n",
      "       'price_range_loc', 'Busiest_Day', 'Busiest_Days',\n",
      "       'Busiest_Period_of_Day', 'max_order', 'loyalty_flag',\n",
      "       'avg_product_price', 'spend_flag', 'avg_days_between_orders',\n",
      "       'order_frequency_flag', 'First Name', 'Last Name', 'Gender', 'State',\n",
      "       'Age', 'Date Joined', 'Number of Dependents', 'Family Status', 'Income',\n",
      "       '_merge2'],\n",
      "      dtype='object')\n"
     ]
    }
   ],
   "source": [
    "# Step 4: Verify the column names\n",
    "print(ords_prods_cust_merge.columns)"
   ]
  },
  {
   "cell_type": "markdown",
   "id": "eac32455-2414-4f37-83e6-7cf13190121b",
   "metadata": {},
   "source": [
    "Observation:  It worked!  Correctly renamed the \"_merge\" indicator column in the ords_prods_merge dataframe to \"_merge_old\" and correctly\n",
    "added an indicator column, \"_merge2\", in the cust_data dataframe.  Finally, joined the two dataframes correctly!!!!"
   ]
  },
  {
   "cell_type": "markdown",
   "id": "5e45a954-4a78-4d69-85f8-fa6ba1094ad5",
   "metadata": {},
   "source": [
    "8. ***Export new file (ords_prods_cust) as .pkl file to \"Prepared Data\"***"
   ]
  },
  {
   "cell_type": "code",
   "execution_count": 54,
   "id": "924f5ee8-e007-48d7-bb1e-a8d9a1819667",
   "metadata": {},
   "outputs": [],
   "source": [
    "#Export as .pkl file to Prepared Data folder\n",
    "ords_prods_cust_merge.to_pickle(os.path.join(path, '02 Data', 'Prepared Data', 'orders_products_customers_merge.pkl'))"
   ]
  }
 ],
 "metadata": {
  "kernelspec": {
   "display_name": "Python 3 (ipykernel)",
   "language": "python",
   "name": "python3"
  },
  "language_info": {
   "codemirror_mode": {
    "name": "ipython",
    "version": 3
   },
   "file_extension": ".py",
   "mimetype": "text/x-python",
   "name": "python",
   "nbconvert_exporter": "python",
   "pygments_lexer": "ipython3",
   "version": "3.12.4"
  }
 },
 "nbformat": 4,
 "nbformat_minor": 5
}
